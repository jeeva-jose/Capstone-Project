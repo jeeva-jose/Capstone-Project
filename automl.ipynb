{
 "cells": [
  {
   "cell_type": "markdown",
   "metadata": {},
   "source": [
    "# Automated ML\n",
    "\n",
    "TODO: Import Dependencies. In the cell below, import all the dependencies that you will need to complete the project."
   ]
  },
  {
   "cell_type": "code",
   "execution_count": 1,
   "metadata": {
    "gather": {
     "logged": 1598423888013
    },
    "jupyter": {
     "outputs_hidden": false,
     "source_hidden": false
    },
    "nteract": {
     "transient": {
      "deleting": false
     }
    }
   },
   "outputs": [
    {
     "name": "stdout",
     "output_type": "stream",
     "text": [
      "SDK version: 1.47.0\n"
     ]
    }
   ],
   "source": [
    "import logging\n",
    "import os\n",
    "import csv\n",
    "\n",
    "from matplotlib import pyplot as plt\n",
    "import numpy as np\n",
    "import pandas as pd\n",
    "from sklearn import datasets\n",
    "import pkg_resources\n",
    "\n",
    "import azureml.core\n",
    "from azureml.core.experiment import Experiment\n",
    "from azureml.core.workspace import Workspace\n",
    "from azureml.train.automl import AutoMLConfig\n",
    "from azureml.core.dataset import Dataset\n",
    "\n",
    "from azureml.pipeline.steps import AutoMLStep\n",
    "\n",
    "# Check core SDK version number\n",
    "print(\"SDK version:\", azureml.core.VERSION)"
   ]
  },
  {
   "cell_type": "code",
   "execution_count": 2,
   "metadata": {},
   "outputs": [
    {
     "name": "stdout",
     "output_type": "stream",
     "text": [
      "quick-starts-ws-218185\n",
      "aml-quickstarts-218185\n",
      "southcentralus\n",
      "d7f39349-a66b-446e-aba6-0053c2cf1c11\n"
     ]
    }
   ],
   "source": [
    "ws = Workspace.from_config()\n",
    "print(ws.name, ws.resource_group, ws.location, ws.subscription_id, sep = '\\n')"
   ]
  },
  {
   "cell_type": "code",
   "execution_count": 7,
   "metadata": {},
   "outputs": [
    {
     "name": "stdout",
     "output_type": "stream",
     "text": [
      "Found existing cluster, use it.\n",
      "\n",
      "Running\n"
     ]
    }
   ],
   "source": [
    "from azureml.core.compute import AmlCompute\n",
    "from azureml.core.compute import ComputeTarget\n",
    "from azureml.core.compute_target import ComputeTargetException\n",
    "\n",
    "# NOTE: update the cluster name to match the existing cluster\n",
    "# Choose a name for your CPU cluster\n",
    "amlcompute_cluster_name = \"democomputeD2\"\n",
    "\n",
    "# Verify that cluster does not exist already\n",
    "try:\n",
    "    compute_target = ComputeTarget(workspace=ws, name=amlcompute_cluster_name)\n",
    "    print('Found existing cluster, use it.')\n",
    "except ComputeTargetException:\n",
    "    compute_config = AmlCompute.provisioning_configuration(vm_size='STANDARD_D2_V2',# for GPU, use \"STANDARD_NC6\"\n",
    "                                                           #vm_priority = 'lowpriority', # optional\n",
    "                                                           min_nodes=1,\n",
    "                                                           max_nodes=4)\n",
    "    compute_target = ComputeTarget.create(ws, amlcompute_cluster_name, compute_config)\n",
    "\n",
    "compute_target.wait_for_completion(show_output=True)\n",
    "# For a more detailed view of current AmlCompute status, use get_status()."
   ]
  },
  {
   "cell_type": "markdown",
   "metadata": {},
   "source": [
    "## Dataset\n",
    "\n",
    "### Overview\n",
    "TODO: In this markdown cell, give an overview of the dataset you are using. Also mention the task you will be performing.\n",
    "\n",
    "\n",
    "TODO: Get data. In the cell below, write code to access the data you will be using in this project. Remember that the dataset needs to be external."
   ]
  },
  {
   "cell_type": "code",
   "execution_count": 8,
   "metadata": {
    "gather": {
     "logged": 1598423890461
    },
    "jupyter": {
     "outputs_hidden": false,
     "source_hidden": false
    },
    "nteract": {
     "transient": {
      "deleting": false
     }
    }
   },
   "outputs": [
    {
     "data": {
      "text/html": [
       "<div>\n",
       "<style scoped>\n",
       "    .dataframe tbody tr th:only-of-type {\n",
       "        vertical-align: middle;\n",
       "    }\n",
       "\n",
       "    .dataframe tbody tr th {\n",
       "        vertical-align: top;\n",
       "    }\n",
       "\n",
       "    .dataframe thead th {\n",
       "        text-align: right;\n",
       "    }\n",
       "</style>\n",
       "<table border=\"1\" class=\"dataframe\">\n",
       "  <thead>\n",
       "    <tr style=\"text-align: right;\">\n",
       "      <th></th>\n",
       "      <th>age</th>\n",
       "      <th>anaemia</th>\n",
       "      <th>creatinine_phosphokinase</th>\n",
       "      <th>diabetes</th>\n",
       "      <th>ejection_fraction</th>\n",
       "      <th>high_blood_pressure</th>\n",
       "      <th>platelets</th>\n",
       "      <th>serum_creatinine</th>\n",
       "      <th>serum_sodium</th>\n",
       "      <th>sex</th>\n",
       "      <th>smoking</th>\n",
       "      <th>time</th>\n",
       "      <th>DEATH_EVENT</th>\n",
       "    </tr>\n",
       "  </thead>\n",
       "  <tbody>\n",
       "    <tr>\n",
       "      <th>count</th>\n",
       "      <td>299.000000</td>\n",
       "      <td>299.000000</td>\n",
       "      <td>299.000000</td>\n",
       "      <td>299.000000</td>\n",
       "      <td>299.000000</td>\n",
       "      <td>299.000000</td>\n",
       "      <td>299.000000</td>\n",
       "      <td>299.00000</td>\n",
       "      <td>299.000000</td>\n",
       "      <td>299.000000</td>\n",
       "      <td>299.00000</td>\n",
       "      <td>299.000000</td>\n",
       "      <td>299.00000</td>\n",
       "    </tr>\n",
       "    <tr>\n",
       "      <th>mean</th>\n",
       "      <td>60.833893</td>\n",
       "      <td>0.431438</td>\n",
       "      <td>581.839465</td>\n",
       "      <td>0.418060</td>\n",
       "      <td>38.083612</td>\n",
       "      <td>0.351171</td>\n",
       "      <td>263358.029264</td>\n",
       "      <td>1.39388</td>\n",
       "      <td>136.625418</td>\n",
       "      <td>0.648829</td>\n",
       "      <td>0.32107</td>\n",
       "      <td>130.260870</td>\n",
       "      <td>0.32107</td>\n",
       "    </tr>\n",
       "    <tr>\n",
       "      <th>std</th>\n",
       "      <td>11.894809</td>\n",
       "      <td>0.496107</td>\n",
       "      <td>970.287881</td>\n",
       "      <td>0.494067</td>\n",
       "      <td>11.834841</td>\n",
       "      <td>0.478136</td>\n",
       "      <td>97804.236869</td>\n",
       "      <td>1.03451</td>\n",
       "      <td>4.412477</td>\n",
       "      <td>0.478136</td>\n",
       "      <td>0.46767</td>\n",
       "      <td>77.614208</td>\n",
       "      <td>0.46767</td>\n",
       "    </tr>\n",
       "    <tr>\n",
       "      <th>min</th>\n",
       "      <td>40.000000</td>\n",
       "      <td>0.000000</td>\n",
       "      <td>23.000000</td>\n",
       "      <td>0.000000</td>\n",
       "      <td>14.000000</td>\n",
       "      <td>0.000000</td>\n",
       "      <td>25100.000000</td>\n",
       "      <td>0.50000</td>\n",
       "      <td>113.000000</td>\n",
       "      <td>0.000000</td>\n",
       "      <td>0.00000</td>\n",
       "      <td>4.000000</td>\n",
       "      <td>0.00000</td>\n",
       "    </tr>\n",
       "    <tr>\n",
       "      <th>25%</th>\n",
       "      <td>51.000000</td>\n",
       "      <td>0.000000</td>\n",
       "      <td>116.500000</td>\n",
       "      <td>0.000000</td>\n",
       "      <td>30.000000</td>\n",
       "      <td>0.000000</td>\n",
       "      <td>212500.000000</td>\n",
       "      <td>0.90000</td>\n",
       "      <td>134.000000</td>\n",
       "      <td>0.000000</td>\n",
       "      <td>0.00000</td>\n",
       "      <td>73.000000</td>\n",
       "      <td>0.00000</td>\n",
       "    </tr>\n",
       "    <tr>\n",
       "      <th>50%</th>\n",
       "      <td>60.000000</td>\n",
       "      <td>0.000000</td>\n",
       "      <td>250.000000</td>\n",
       "      <td>0.000000</td>\n",
       "      <td>38.000000</td>\n",
       "      <td>0.000000</td>\n",
       "      <td>262000.000000</td>\n",
       "      <td>1.10000</td>\n",
       "      <td>137.000000</td>\n",
       "      <td>1.000000</td>\n",
       "      <td>0.00000</td>\n",
       "      <td>115.000000</td>\n",
       "      <td>0.00000</td>\n",
       "    </tr>\n",
       "    <tr>\n",
       "      <th>75%</th>\n",
       "      <td>70.000000</td>\n",
       "      <td>1.000000</td>\n",
       "      <td>582.000000</td>\n",
       "      <td>1.000000</td>\n",
       "      <td>45.000000</td>\n",
       "      <td>1.000000</td>\n",
       "      <td>303500.000000</td>\n",
       "      <td>1.40000</td>\n",
       "      <td>140.000000</td>\n",
       "      <td>1.000000</td>\n",
       "      <td>1.00000</td>\n",
       "      <td>203.000000</td>\n",
       "      <td>1.00000</td>\n",
       "    </tr>\n",
       "    <tr>\n",
       "      <th>max</th>\n",
       "      <td>95.000000</td>\n",
       "      <td>1.000000</td>\n",
       "      <td>7861.000000</td>\n",
       "      <td>1.000000</td>\n",
       "      <td>80.000000</td>\n",
       "      <td>1.000000</td>\n",
       "      <td>850000.000000</td>\n",
       "      <td>9.40000</td>\n",
       "      <td>148.000000</td>\n",
       "      <td>1.000000</td>\n",
       "      <td>1.00000</td>\n",
       "      <td>285.000000</td>\n",
       "      <td>1.00000</td>\n",
       "    </tr>\n",
       "  </tbody>\n",
       "</table>\n",
       "</div>"
      ],
      "text/plain": [
       "              age     anaemia  creatinine_phosphokinase    diabetes  \\\n",
       "count  299.000000  299.000000                299.000000  299.000000   \n",
       "mean    60.833893    0.431438                581.839465    0.418060   \n",
       "std     11.894809    0.496107                970.287881    0.494067   \n",
       "min     40.000000    0.000000                 23.000000    0.000000   \n",
       "25%     51.000000    0.000000                116.500000    0.000000   \n",
       "50%     60.000000    0.000000                250.000000    0.000000   \n",
       "75%     70.000000    1.000000                582.000000    1.000000   \n",
       "max     95.000000    1.000000               7861.000000    1.000000   \n",
       "\n",
       "       ejection_fraction  high_blood_pressure      platelets  \\\n",
       "count         299.000000           299.000000     299.000000   \n",
       "mean           38.083612             0.351171  263358.029264   \n",
       "std            11.834841             0.478136   97804.236869   \n",
       "min            14.000000             0.000000   25100.000000   \n",
       "25%            30.000000             0.000000  212500.000000   \n",
       "50%            38.000000             0.000000  262000.000000   \n",
       "75%            45.000000             1.000000  303500.000000   \n",
       "max            80.000000             1.000000  850000.000000   \n",
       "\n",
       "       serum_creatinine  serum_sodium         sex    smoking        time  \\\n",
       "count         299.00000    299.000000  299.000000  299.00000  299.000000   \n",
       "mean            1.39388    136.625418    0.648829    0.32107  130.260870   \n",
       "std             1.03451      4.412477    0.478136    0.46767   77.614208   \n",
       "min             0.50000    113.000000    0.000000    0.00000    4.000000   \n",
       "25%             0.90000    134.000000    0.000000    0.00000   73.000000   \n",
       "50%             1.10000    137.000000    1.000000    0.00000  115.000000   \n",
       "75%             1.40000    140.000000    1.000000    1.00000  203.000000   \n",
       "max             9.40000    148.000000    1.000000    1.00000  285.000000   \n",
       "\n",
       "       DEATH_EVENT  \n",
       "count    299.00000  \n",
       "mean       0.32107  \n",
       "std        0.46767  \n",
       "min        0.00000  \n",
       "25%        0.00000  \n",
       "50%        0.00000  \n",
       "75%        1.00000  \n",
       "max        1.00000  "
      ]
     },
     "execution_count": 8,
     "metadata": {},
     "output_type": "execute_result"
    }
   ],
   "source": [
    "# choose a name for experiment\n",
    "from azureml.core.dataset import Dataset\n",
    "experiment_name = 'Capstone_Project_Exp'\n",
    "project_folder = './pipeline-project'\n",
    "\n",
    "experiment=Experiment(ws, experiment_name)\n",
    "experiment\n",
    "\n",
    "found = False\n",
    "key = \"heart_failure_clinical_records\"\n",
    "description_text = \"Heart Failure Prediction\"\n",
    "\n",
    "if key in ws.datasets.keys(): \n",
    "        found = True\n",
    "        dataset = ws.datasets[key] \n",
    "\n",
    "if not found:\n",
    "        # Create AML Dataset and register it into Workspace\n",
    "        my_dataset = 'https://raw.githubusercontent.com/jeeva-jose/Capstone-Project/main/heart_failure_clinical_records_dataset.csv'\n",
    "        dataset = Dataset.Tabular.from_delimited_files(my_dataset)        \n",
    "        # Register Dataset in Workspace\n",
    "        dataset = dataset.register(workspace=ws,\n",
    "                                   name=key,\n",
    "                                   description=description_text)\n",
    "\n",
    "df = dataset.to_pandas_dataframe()\n",
    "df.describe()"
   ]
  },
  {
   "cell_type": "markdown",
   "metadata": {},
   "source": [
    "## AutoML Configuration\n",
    "\n",
    "TODO: Explain why you chose the automl settings and cofiguration you used below."
   ]
  },
  {
   "cell_type": "code",
   "execution_count": 9,
   "metadata": {
    "gather": {
     "logged": 1598429217746
    },
    "jupyter": {
     "outputs_hidden": false,
     "source_hidden": false
    },
    "nteract": {
     "transient": {
      "deleting": false
     }
    }
   },
   "outputs": [],
   "source": [
    "automl_settings = {\n",
    "    \"experiment_timeout_minutes\": 20,\n",
    "    \"max_concurrent_iterations\": 5,\n",
    "    \"primary_metric\" : 'AUC_weighted'\n",
    "}\n",
    "automl_config = AutoMLConfig(compute_target=compute_target,\n",
    "                             task = \"classification\",\n",
    "                             training_data=dataset,\n",
    "                             label_column_name=\"DEATH_EVENT\",   \n",
    "                             path = project_folder,\n",
    "                             enable_early_stopping= True,\n",
    "                             featurization= 'auto',\n",
    "                             debug_log = \"automl_errors.log\",\n",
    "                             **automl_settings\n",
    "                            )"
   ]
  },
  {
   "cell_type": "code",
   "execution_count": 10,
   "metadata": {
    "gather": {
     "logged": 1598431107951
    },
    "jupyter": {
     "outputs_hidden": false,
     "source_hidden": false
    },
    "nteract": {
     "transient": {
      "deleting": false
     }
    }
   },
   "outputs": [
    {
     "name": "stdout",
     "output_type": "stream",
     "text": [
      "Submitting remote run.\n"
     ]
    },
    {
     "data": {
      "text/html": [
       "<table style=\"width:100%\"><tr><th>Experiment</th><th>Id</th><th>Type</th><th>Status</th><th>Details Page</th><th>Docs Page</th></tr><tr><td>Capstone_Project_Exp</td><td>AutoML_06728128-e3bd-435d-a1a7-73f0cda4096a</td><td>automl</td><td>NotStarted</td><td><a href=\"https://ml.azure.com/runs/AutoML_06728128-e3bd-435d-a1a7-73f0cda4096a?wsid=/subscriptions/d7f39349-a66b-446e-aba6-0053c2cf1c11/resourcegroups/aml-quickstarts-218185/workspaces/quick-starts-ws-218185&amp;tid=660b3398-b80e-49d2-bc5b-ac1dc93b5254\" target=\"_blank\" rel=\"noopener\">Link to Azure Machine Learning studio</a></td><td><a href=\"https://docs.microsoft.com/en-us/python/api/overview/azure/ml/intro?view=azure-ml-py\" target=\"_blank\" rel=\"noopener\">Link to Documentation</a></td></tr></table>"
      ],
      "text/plain": [
       "<IPython.core.display.HTML object>"
      ]
     },
     "metadata": {},
     "output_type": "display_data"
    }
   ],
   "source": [
    "# TODO: Submit your experiment\n",
    "remote_run = experiment.submit(automl_config)\n"
   ]
  },
  {
   "cell_type": "markdown",
   "metadata": {},
   "source": [
    "## Run Details\n",
    "\n",
    "OPTIONAL: Write about the different models trained and their performance. Why do you think some models did better than others?\n",
    "\n",
    "TODO: In the cell below, use the `RunDetails` widget to show the different experiments."
   ]
  },
  {
   "cell_type": "code",
   "execution_count": 11,
   "metadata": {
    "gather": {
     "logged": 1598431121770
    },
    "jupyter": {
     "outputs_hidden": false,
     "source_hidden": false
    },
    "nteract": {
     "transient": {
      "deleting": false
     }
    }
   },
   "outputs": [
    {
     "data": {
      "application/vnd.jupyter.widget-view+json": {
       "model_id": "b4ec5135bde24b659d3ef419b3ac3e48",
       "version_major": 2,
       "version_minor": 0
      },
      "text/plain": [
       "_AutoMLWidget(widget_settings={'childWidgetDisplay': 'popup', 'send_telemetry': False, 'log_level': 'INFO', 's…"
      ]
     },
     "metadata": {},
     "output_type": "display_data"
    },
    {
     "data": {
      "application/aml.mini.widget.v1": "{\"status\": \"Completed\", \"workbench_run_details_uri\": \"https://ml.azure.com/runs/AutoML_06728128-e3bd-435d-a1a7-73f0cda4096a?wsid=/subscriptions/d7f39349-a66b-446e-aba6-0053c2cf1c11/resourcegroups/aml-quickstarts-218185/workspaces/quick-starts-ws-218185&tid=660b3398-b80e-49d2-bc5b-ac1dc93b5254\", \"run_id\": \"AutoML_06728128-e3bd-435d-a1a7-73f0cda4096a\", \"run_properties\": {\"run_id\": \"AutoML_06728128-e3bd-435d-a1a7-73f0cda4096a\", \"created_utc\": \"2022-12-12T17:12:49.8843Z\", \"properties\": {\"num_iterations\": \"1000\", \"training_type\": \"TrainFull\", \"acquisition_function\": \"EI\", \"primary_metric\": \"AUC_weighted\", \"train_split\": \"0\", \"acquisition_parameter\": \"0\", \"num_cross_validation\": null, \"target\": \"democomputeD2\", \"AMLSettingsJsonString\": \"{\\\"path\\\":null,\\\"name\\\":\\\"Capstone_Project_Exp\\\",\\\"subscription_id\\\":\\\"d7f39349-a66b-446e-aba6-0053c2cf1c11\\\",\\\"resource_group\\\":\\\"aml-quickstarts-218185\\\",\\\"workspace_name\\\":\\\"quick-starts-ws-218185\\\",\\\"region\\\":\\\"southcentralus\\\",\\\"compute_target\\\":\\\"democomputeD2\\\",\\\"spark_service\\\":null,\\\"azure_service\\\":\\\"remote\\\",\\\"many_models\\\":false,\\\"pipeline_fetch_max_batch_size\\\":1,\\\"enable_batch_run\\\":true,\\\"enable_parallel_run\\\":false,\\\"num_procs\\\":null,\\\"enable_run_restructure\\\":false,\\\"start_auxiliary_runs_before_parent_complete\\\":false,\\\"enable_code_generation\\\":true,\\\"iterations\\\":1000,\\\"primary_metric\\\":\\\"AUC_weighted\\\",\\\"task_type\\\":\\\"classification\\\",\\\"positive_label\\\":null,\\\"data_script\\\":null,\\\"test_size\\\":0.0,\\\"test_include_predictions_only\\\":false,\\\"validation_size\\\":0.0,\\\"n_cross_validations\\\":null,\\\"y_min\\\":null,\\\"y_max\\\":null,\\\"num_classes\\\":null,\\\"featurization\\\":\\\"auto\\\",\\\"_ignore_package_version_incompatibilities\\\":false,\\\"is_timeseries\\\":false,\\\"max_cores_per_iteration\\\":1,\\\"max_concurrent_iterations\\\":5,\\\"iteration_timeout_minutes\\\":null,\\\"mem_in_mb\\\":null,\\\"enforce_time_on_windows\\\":false,\\\"experiment_timeout_minutes\\\":20,\\\"experiment_exit_score\\\":null,\\\"partition_column_names\\\":null,\\\"whitelist_models\\\":null,\\\"blacklist_algos\\\":[\\\"TensorFlowLinearClassifier\\\",\\\"TensorFlowDNN\\\"],\\\"supported_models\\\":[\\\"SVM\\\",\\\"XGBoostClassifier\\\",\\\"LinearSVM\\\",\\\"MultinomialNaiveBayes\\\",\\\"KNN\\\",\\\"TensorFlowDNN\\\",\\\"RandomForest\\\",\\\"LogisticRegression\\\",\\\"GradientBoosting\\\",\\\"BernoulliNaiveBayes\\\",\\\"LightGBM\\\",\\\"DecisionTree\\\",\\\"TabnetClassifier\\\",\\\"TensorFlowLinearClassifier\\\",\\\"ExtremeRandomTrees\\\",\\\"AveragedPerceptronClassifier\\\",\\\"SGD\\\"],\\\"private_models\\\":[],\\\"auto_blacklist\\\":true,\\\"blacklist_samples_reached\\\":false,\\\"exclude_nan_labels\\\":true,\\\"verbosity\\\":20,\\\"_debug_log\\\":\\\"azureml_automl.log\\\",\\\"show_warnings\\\":false,\\\"model_explainability\\\":true,\\\"service_url\\\":null,\\\"sdk_url\\\":null,\\\"sdk_packages\\\":null,\\\"enable_onnx_compatible_models\\\":false,\\\"enable_split_onnx_featurizer_estimator_models\\\":false,\\\"vm_type\\\":\\\"STANDARD_D2_V2\\\",\\\"telemetry_verbosity\\\":20,\\\"send_telemetry\\\":true,\\\"enable_dnn\\\":false,\\\"scenario\\\":\\\"AutoML\\\",\\\"environment_label\\\":null,\\\"save_mlflow\\\":false,\\\"enable_categorical_indicators\\\":false,\\\"force_text_dnn\\\":false,\\\"enable_feature_sweeping\\\":true,\\\"enable_early_stopping\\\":true,\\\"early_stopping_n_iters\\\":10,\\\"arguments\\\":null,\\\"dataset_id\\\":\\\"78cfc434-de84-43ca-8f71-afad0f973400\\\",\\\"hyperdrive_config\\\":null,\\\"validation_dataset_id\\\":null,\\\"run_source\\\":null,\\\"metrics\\\":null,\\\"enable_metric_confidence\\\":false,\\\"enable_ensembling\\\":true,\\\"enable_stack_ensembling\\\":true,\\\"ensemble_iterations\\\":15,\\\"enable_tf\\\":false,\\\"enable_subsampling\\\":null,\\\"subsample_seed\\\":null,\\\"enable_nimbusml\\\":false,\\\"enable_streaming\\\":false,\\\"force_streaming\\\":false,\\\"track_child_runs\\\":true,\\\"n_best_runs\\\":1,\\\"allowed_private_models\\\":[],\\\"label_column_name\\\":\\\"DEATH_EVENT\\\",\\\"weight_column_name\\\":null,\\\"cv_split_column_names\\\":null,\\\"enable_local_managed\\\":false,\\\"_local_managed_run_id\\\":null,\\\"cost_mode\\\":1,\\\"lag_length\\\":0,\\\"metric_operation\\\":\\\"maximize\\\",\\\"preprocess\\\":true}\", \"DataPrepJsonString\": \"{\\\\\\\"training_data\\\\\\\": {\\\\\\\"datasetId\\\\\\\": \\\\\\\"78cfc434-de84-43ca-8f71-afad0f973400\\\\\\\"}, \\\\\\\"datasets\\\\\\\": 0}\", \"EnableSubsampling\": null, \"runTemplate\": \"AutoML\", \"azureml.runsource\": \"automl\", \"display_task_type\": \"classification\", \"dependencies_versions\": \"{\\\"azureml-widgets\\\": \\\"1.47.0\\\", \\\"azureml-training-tabular\\\": \\\"1.47.0\\\", \\\"azureml-train\\\": \\\"1.47.0\\\", \\\"azureml-train-restclients-hyperdrive\\\": \\\"1.47.0\\\", \\\"azureml-train-core\\\": \\\"1.47.0\\\", \\\"azureml-train-automl\\\": \\\"1.47.0\\\", \\\"azureml-train-automl-runtime\\\": \\\"1.47.0\\\", \\\"azureml-train-automl-client\\\": \\\"1.47.0\\\", \\\"azureml-tensorboard\\\": \\\"1.47.0\\\", \\\"azureml-telemetry\\\": \\\"1.47.0\\\", \\\"azureml-sdk\\\": \\\"1.47.0\\\", \\\"azureml-samples\\\": \\\"0+unknown\\\", \\\"azureml-responsibleai\\\": \\\"1.47.0\\\", \\\"azureml-pipeline\\\": \\\"1.47.0\\\", \\\"azureml-pipeline-steps\\\": \\\"1.47.0\\\", \\\"azureml-pipeline-core\\\": \\\"1.47.0\\\", \\\"azureml-opendatasets\\\": \\\"1.47.0\\\", \\\"azureml-mlflow\\\": \\\"1.47.0\\\", \\\"azureml-interpret\\\": \\\"1.47.0\\\", \\\"azureml-inference-server-http\\\": \\\"0.7.6\\\", \\\"azureml-explain-model\\\": \\\"1.47.0\\\", \\\"azureml-defaults\\\": \\\"1.47.0\\\", \\\"azureml-dataset-runtime\\\": \\\"1.47.0\\\", \\\"azureml-dataprep\\\": \\\"4.5.7\\\", \\\"azureml-dataprep-rslex\\\": \\\"2.11.4\\\", \\\"azureml-dataprep-native\\\": \\\"38.0.0\\\", \\\"azureml-datadrift\\\": \\\"1.47.0\\\", \\\"azureml-core\\\": \\\"1.47.0\\\", \\\"azureml-contrib-services\\\": \\\"1.47.0\\\", \\\"azureml-contrib-server\\\": \\\"1.47.0\\\", \\\"azureml-contrib-reinforcementlearning\\\": \\\"1.47.0\\\", \\\"azureml-contrib-pipeline-steps\\\": \\\"1.47.0\\\", \\\"azureml-contrib-notebook\\\": \\\"1.47.0\\\", \\\"azureml-contrib-fairness\\\": \\\"1.47.0\\\", \\\"azureml-contrib-dataset\\\": \\\"1.47.0\\\", \\\"azureml-contrib-automl-pipeline-steps\\\": \\\"1.47.0\\\", \\\"azureml-cli-common\\\": \\\"1.47.0\\\", \\\"azureml-automl-runtime\\\": \\\"1.47.0\\\", \\\"azureml-automl-dnn-nlp\\\": \\\"1.47.0\\\", \\\"azureml-automl-core\\\": \\\"1.47.0\\\", \\\"azureml-accel-models\\\": \\\"1.47.0\\\"}\", \"_aml_system_scenario_identification\": \"Remote.Parent\", \"ClientType\": \"SDK\", \"environment_cpu_name\": \"AzureML-AutoML\", \"environment_cpu_label\": \"prod\", \"environment_gpu_name\": \"AzureML-AutoML-GPU\", \"environment_gpu_label\": \"prod\", \"root_attribution\": \"automl\", \"attribution\": \"AutoML\", \"Orchestrator\": \"AutoML\", \"CancelUri\": \"https://southcentralus.api.azureml.ms/jasmine/v1.0/subscriptions/d7f39349-a66b-446e-aba6-0053c2cf1c11/resourceGroups/aml-quickstarts-218185/providers/Microsoft.MachineLearningServices/workspaces/quick-starts-ws-218185/experimentids/c8a85c5e-82f6-4818-834c-122c1b370475/cancel/AutoML_06728128-e3bd-435d-a1a7-73f0cda4096a\", \"ClientSdkVersion\": \"1.47.0\", \"snapshotId\": \"00000000-0000-0000-0000-000000000000\", \"SetupRunId\": \"AutoML_06728128-e3bd-435d-a1a7-73f0cda4096a_setup\", \"SetupRunContainerId\": \"dcid.AutoML_06728128-e3bd-435d-a1a7-73f0cda4096a_setup\", \"FeaturizationRunJsonPath\": \"featurizer_container.json\", \"FeaturizationRunId\": \"AutoML_06728128-e3bd-435d-a1a7-73f0cda4096a_featurize\", \"ProblemInfoJsonString\": \"{\\\"dataset_num_categorical\\\": 0, \\\"is_sparse\\\": false, \\\"subsampling\\\": false, \\\"has_extra_col\\\": true, \\\"dataset_classes\\\": 2, \\\"dataset_features\\\": 12, \\\"dataset_samples\\\": 299, \\\"single_frequency_class_detected\\\": false}\", \"ModelExplainRunId\": \"AutoML_06728128-e3bd-435d-a1a7-73f0cda4096a_ModelExplain\"}, \"tags\": {\"model_explain_run\": \"best_run\", \"_aml_system_automl_run_workspace_id\": \"055bbdfa-566a-4645-b4b6-98b23cc3ddcc\", \"_aml_system_azureml.automlComponent\": \"AutoML\", \"pipeline_id\": \"\", \"score\": \"\", \"predicted_cost\": \"\", \"fit_time\": \"\", \"training_percent\": \"\", \"iteration\": \"\", \"run_preprocessor\": \"\", \"run_algorithm\": \"\", \"dynamic_allowlisting_iterations\": \"<25>;<30>;<35>;<40>;\", \"_aml_system_azureml.automl_early_exit_message\": \"No scores improved over last 10 iterations, so experiment stopped early. This early stopping behavior can be disabled by setting enable_early_stopping = False in AutoMLConfig for notebook/python SDK runs.\", \"automl_best_child_run_id\": \"AutoML_06728128-e3bd-435d-a1a7-73f0cda4096a_42\", \"model_explain_best_run_child_id\": \"AutoML_06728128-e3bd-435d-a1a7-73f0cda4096a_42\"}, \"end_time_utc\": \"2022-12-12T17:31:11.795665Z\", \"status\": \"Completed\", \"log_files\": {}, \"log_groups\": [], \"run_duration\": \"0:18:21\", \"run_number\": \"1670865169\", \"run_queued_details\": {\"status\": \"Completed\", \"details\": null}}, \"child_runs\": [{\"run_id\": \"AutoML_06728128-e3bd-435d-a1a7-73f0cda4096a_setup\", \"run_number\": 1670865183, \"metric\": null, \"status\": \"Completed\", \"run_type\": \"azureml.scriptrun\", \"training_percent\": null, \"start_time\": \"2022-12-12T17:13:13.468576Z\", \"end_time\": \"2022-12-12T17:16:15.600785Z\", \"created_time\": \"2022-12-12T17:13:03.000036Z\", \"created_time_dt\": \"2022-12-12T17:13:03.000036Z\", \"duration\": \"0:03:12\", \"iteration\": null, \"goal\": null, \"run_name\": \"Completed\", \"run_properties\": null}, {\"run_id\": \"AutoML_06728128-e3bd-435d-a1a7-73f0cda4096a_featurize\", \"run_number\": 1670865375, \"metric\": null, \"status\": \"Completed\", \"run_type\": \"automl.featurization\", \"training_percent\": null, \"start_time\": \"2022-12-12T17:16:16.335706Z\", \"end_time\": \"2022-12-12T17:16:54.828578Z\", \"created_time\": \"2022-12-12T17:16:15.886513Z\", \"created_time_dt\": \"2022-12-12T17:16:15.886513Z\", \"duration\": \"0:00:38\", \"iteration\": null, \"goal\": null, \"run_name\": \"Completed\", \"run_properties\": null}, {\"run_id\": \"AutoML_06728128-e3bd-435d-a1a7-73f0cda4096a_0\", \"run_number\": 1670865416, \"metric\": null, \"status\": \"Completed\", \"run_type\": null, \"training_percent\": \"100\", \"start_time\": \"2022-12-12T17:17:29.447548Z\", \"end_time\": \"2022-12-12T17:17:47.239033Z\", \"created_time\": \"2022-12-12T17:16:56.123452Z\", \"created_time_dt\": \"2022-12-12T17:16:56.123452Z\", \"duration\": \"0:00:51\", \"iteration\": \"0\", \"goal\": \"AUC_weighted_max\", \"run_name\": \"MaxAbsScaler, LightGBM\", \"run_properties\": \"copy=True\", \"primary_metric\": 0.89523336, \"best_metric\": 0.89523336}, {\"run_id\": \"AutoML_06728128-e3bd-435d-a1a7-73f0cda4096a_2\", \"run_number\": 1670865417, \"metric\": null, \"status\": \"Completed\", \"run_type\": null, \"training_percent\": \"100\", \"start_time\": \"2022-12-12T17:18:01.576627Z\", \"end_time\": \"2022-12-12T17:18:14.550659Z\", \"created_time\": \"2022-12-12T17:16:57.237694Z\", \"created_time_dt\": \"2022-12-12T17:16:57.237694Z\", \"duration\": \"0:01:17\", \"iteration\": \"2\", \"goal\": \"AUC_weighted_max\", \"run_name\": \"MaxAbsScaler, ExtremeRandomTrees\", \"run_properties\": \"copy=True\", \"primary_metric\": 0.8792555, \"best_metric\": 0.89523336}, {\"run_id\": \"AutoML_06728128-e3bd-435d-a1a7-73f0cda4096a_worker_0\", \"run_number\": 1670865418, \"metric\": null, \"status\": \"Completed\", \"run_type\": \"azureml.scriptrun\", \"training_percent\": null, \"start_time\": \"2022-12-12T17:17:12.065161Z\", \"end_time\": \"2022-12-12T17:18:33.644304Z\", \"created_time\": \"2022-12-12T17:16:58.091788Z\", \"created_time_dt\": \"2022-12-12T17:16:58.091788Z\", \"duration\": \"0:01:35\", \"iteration\": null, \"goal\": null, \"run_name\": \"Completed\", \"run_properties\": null}, {\"run_id\": \"AutoML_06728128-e3bd-435d-a1a7-73f0cda4096a_6\", \"run_number\": 1670865420, \"metric\": null, \"status\": \"Completed\", \"run_type\": null, \"training_percent\": \"100\", \"start_time\": \"2022-12-12T17:18:01.206937Z\", \"end_time\": \"2022-12-12T17:18:14.898464Z\", \"created_time\": \"2022-12-12T17:17:00.533914Z\", \"created_time_dt\": \"2022-12-12T17:17:00.533914Z\", \"duration\": \"0:01:14\", \"iteration\": \"6\", \"goal\": \"AUC_weighted_max\", \"run_name\": \"SparseNormalizer, XGBoostClassifier\", \"run_properties\": \"copy=True, norm='max'\", \"primary_metric\": 0.87456962, \"best_metric\": 0.89523336}, {\"run_id\": \"AutoML_06728128-e3bd-435d-a1a7-73f0cda4096a_worker_1\", \"run_number\": 1670865421, \"metric\": null, \"status\": \"Completed\", \"run_type\": \"azureml.scriptrun\", \"training_percent\": null, \"start_time\": \"2022-12-12T17:17:11.879615Z\", \"end_time\": \"2022-12-12T17:18:35.076547Z\", \"created_time\": \"2022-12-12T17:17:01.247727Z\", \"created_time_dt\": \"2022-12-12T17:17:01.247727Z\", \"duration\": \"0:01:33\", \"iteration\": null, \"goal\": null, \"run_name\": \"Completed\", \"run_properties\": null}, {\"run_id\": \"AutoML_06728128-e3bd-435d-a1a7-73f0cda4096a_10\", \"run_number\": 1670865422, \"metric\": null, \"status\": \"Completed\", \"run_type\": null, \"training_percent\": \"100\", \"start_time\": \"2022-12-12T17:19:27.657133Z\", \"end_time\": \"2022-12-12T17:19:40.451898Z\", \"created_time\": \"2022-12-12T17:17:02.483671Z\", \"created_time_dt\": \"2022-12-12T17:17:02.483671Z\", \"duration\": \"0:02:37\", \"iteration\": \"10\", \"goal\": \"AUC_weighted_max\", \"run_name\": \"StandardScalerWrapper, LogisticRegression\", \"run_properties\": \"copy=True, with_mean=True, with_std=True\", \"primary_metric\": 0.86383871, \"best_metric\": 0.89523336}, {\"run_id\": \"AutoML_06728128-e3bd-435d-a1a7-73f0cda4096a_worker_2\", \"run_number\": 1670865423, \"metric\": null, \"status\": \"Completed\", \"run_type\": \"azureml.scriptrun\", \"training_percent\": null, \"start_time\": \"2022-12-12T17:18:41.673566Z\", \"end_time\": \"2022-12-12T17:20:03.53033Z\", \"created_time\": \"2022-12-12T17:17:03.371229Z\", \"created_time_dt\": \"2022-12-12T17:17:03.371229Z\", \"duration\": \"0:03:00\", \"iteration\": null, \"goal\": null, \"run_name\": \"Completed\", \"run_properties\": null}, {\"run_id\": \"AutoML_06728128-e3bd-435d-a1a7-73f0cda4096a_13\", \"run_number\": 1670865424, \"metric\": null, \"status\": \"Completed\", \"run_type\": null, \"training_percent\": \"100\", \"start_time\": \"2022-12-12T17:19:20.952405Z\", \"end_time\": \"2022-12-12T17:19:33.515472Z\", \"created_time\": \"2022-12-12T17:17:04.112662Z\", \"created_time_dt\": \"2022-12-12T17:17:04.112662Z\", \"duration\": \"0:02:29\", \"iteration\": \"13\", \"goal\": \"AUC_weighted_max\", \"run_name\": \"SparseNormalizer, KNN\", \"run_properties\": \"copy=True, norm='max'\", \"primary_metric\": 0.74640116, \"best_metric\": 0.89523336}, {\"run_id\": \"AutoML_06728128-e3bd-435d-a1a7-73f0cda4096a_worker_3\", \"run_number\": 1670865425, \"metric\": null, \"status\": \"Completed\", \"run_type\": \"azureml.scriptrun\", \"training_percent\": null, \"start_time\": \"2022-12-12T17:18:48.923507Z\", \"end_time\": \"2022-12-12T17:20:14.245053Z\", \"created_time\": \"2022-12-12T17:17:05.494566Z\", \"created_time_dt\": \"2022-12-12T17:17:05.494566Z\", \"duration\": \"0:03:08\", \"iteration\": null, \"goal\": null, \"run_name\": \"Completed\", \"run_properties\": null}, {\"run_id\": \"AutoML_06728128-e3bd-435d-a1a7-73f0cda4096a_17\", \"run_number\": 1670865426, \"metric\": null, \"status\": \"Completed\", \"run_type\": null, \"training_percent\": \"100\", \"start_time\": \"2022-12-12T17:20:42.961667Z\", \"end_time\": \"2022-12-12T17:20:56.948587Z\", \"created_time\": \"2022-12-12T17:17:06.22166Z\", \"created_time_dt\": \"2022-12-12T17:17:06.22166Z\", \"duration\": \"0:03:50\", \"iteration\": \"17\", \"goal\": \"AUC_weighted_max\", \"run_name\": \"MinMaxScaler, ExtremeRandomTrees\", \"run_properties\": \"copy=True, feature_range=(0, 1\", \"primary_metric\": 0.89252793, \"best_metric\": 0.89523336}, {\"run_id\": \"AutoML_06728128-e3bd-435d-a1a7-73f0cda4096a_worker_4\", \"run_number\": 1670865427, \"metric\": null, \"status\": \"Completed\", \"run_type\": \"azureml.scriptrun\", \"training_percent\": null, \"start_time\": \"2022-12-12T17:20:12.665852Z\", \"end_time\": \"2022-12-12T17:21:40.853246Z\", \"created_time\": \"2022-12-12T17:17:07.731391Z\", \"created_time_dt\": \"2022-12-12T17:17:07.731391Z\", \"duration\": \"0:04:33\", \"iteration\": null, \"goal\": null, \"run_name\": \"Completed\", \"run_properties\": null}, {\"run_id\": \"AutoML_06728128-e3bd-435d-a1a7-73f0cda4096a_20\", \"run_number\": 1670865612, \"metric\": null, \"status\": \"Completed\", \"run_type\": \"azureml.scriptrun\", \"training_percent\": \"100\", \"start_time\": \"2022-12-12T17:20:26.321392Z\", \"end_time\": \"2022-12-12T17:21:03.397264Z\", \"created_time\": \"2022-12-12T17:20:12.927589Z\", \"created_time_dt\": \"2022-12-12T17:20:12.927589Z\", \"duration\": \"0:00:50\", \"iteration\": \"20\", \"goal\": \"AUC_weighted_max\", \"run_name\": \"StandardScalerWrapper, XGBoostClassifier\", \"run_properties\": \"copy=True, with_mean=False, with_std=False\", \"primary_metric\": 0.89609125, \"best_metric\": 0.89609125}, {\"run_id\": \"AutoML_06728128-e3bd-435d-a1a7-73f0cda4096a_24\", \"run_number\": 1670865666, \"metric\": null, \"status\": \"Completed\", \"run_type\": \"azureml.scriptrun\", \"training_percent\": \"100\", \"start_time\": \"2022-12-12T17:21:57.452655Z\", \"end_time\": \"2022-12-12T17:22:35.612022Z\", \"created_time\": \"2022-12-12T17:21:06.262295Z\", \"created_time_dt\": \"2022-12-12T17:21:06.262295Z\", \"duration\": \"0:01:29\", \"iteration\": \"24\", \"goal\": \"AUC_weighted_max\", \"run_name\": \"StandardScalerWrapper, ExtremeRandomTrees\", \"run_properties\": \"copy=True, with_mean=False, with_std=True\", \"primary_metric\": 0.9130379, \"best_metric\": 0.9130379}, {\"run_id\": \"AutoML_06728128-e3bd-435d-a1a7-73f0cda4096a_25\", \"run_number\": 1670865707, \"metric\": null, \"status\": \"Completed\", \"run_type\": \"azureml.scriptrun\", \"training_percent\": \"100\", \"start_time\": \"2022-12-12T17:22:48.243628Z\", \"end_time\": \"2022-12-12T17:23:20.302962Z\", \"created_time\": \"2022-12-12T17:21:47.07572Z\", \"created_time_dt\": \"2022-12-12T17:21:47.07572Z\", \"duration\": \"0:01:33\", \"iteration\": \"25\", \"goal\": \"AUC_weighted_max\", \"run_name\": \"RobustScaler, ExtremeRandomTrees\", \"run_properties\": \"copy=True, quantile_range=[10, 90], with_centering=False,\\n             with_scaling=True\", \"primary_metric\": 0.72233054, \"best_metric\": 0.9130379}, {\"run_id\": \"AutoML_06728128-e3bd-435d-a1a7-73f0cda4096a_27\", \"run_number\": 1670865746, \"metric\": null, \"status\": \"Completed\", \"run_type\": \"azureml.scriptrun\", \"training_percent\": \"100\", \"start_time\": \"2022-12-12T17:23:34.035198Z\", \"end_time\": \"2022-12-12T17:24:10.005891Z\", \"created_time\": \"2022-12-12T17:22:26.42336Z\", \"created_time_dt\": \"2022-12-12T17:22:26.42336Z\", \"duration\": \"0:01:43\", \"iteration\": \"27\", \"goal\": \"AUC_weighted_max\", \"run_name\": \"MinMaxScaler, RandomForest\", \"run_properties\": \"copy=True, feature_range=(0, 1\", \"primary_metric\": 0.90603273, \"best_metric\": 0.9130379}, {\"run_id\": \"AutoML_06728128-e3bd-435d-a1a7-73f0cda4096a_28\", \"run_number\": 1670865757, \"metric\": null, \"status\": \"Completed\", \"run_type\": \"azureml.scriptrun\", \"training_percent\": \"100\", \"start_time\": \"2022-12-12T17:23:59.922286Z\", \"end_time\": \"2022-12-12T17:24:33.12554Z\", \"created_time\": \"2022-12-12T17:22:37.279074Z\", \"created_time_dt\": \"2022-12-12T17:22:37.279074Z\", \"duration\": \"0:01:55\", \"iteration\": \"28\", \"goal\": \"AUC_weighted_max\", \"run_name\": \"MaxAbsScaler, GradientBoosting\", \"run_properties\": \"copy=True\", \"primary_metric\": 0.9091284, \"best_metric\": 0.9130379}, {\"run_id\": \"AutoML_06728128-e3bd-435d-a1a7-73f0cda4096a_29\", \"run_number\": 1670865789, \"metric\": null, \"status\": \"Completed\", \"run_type\": \"azureml.scriptrun\", \"training_percent\": \"100\", \"start_time\": \"2022-12-12T17:24:21.886733Z\", \"end_time\": \"2022-12-12T17:24:57.026958Z\", \"created_time\": \"2022-12-12T17:23:09.46885Z\", \"created_time_dt\": \"2022-12-12T17:23:09.46885Z\", \"duration\": \"0:01:47\", \"iteration\": \"29\", \"goal\": \"AUC_weighted_max\", \"run_name\": \"StandardScalerWrapper, ExtremeRandomTrees\", \"run_properties\": \"copy=True, with_mean=True, with_std=True\", \"primary_metric\": 0.86950209, \"best_metric\": 0.9130379}, {\"run_id\": \"AutoML_06728128-e3bd-435d-a1a7-73f0cda4096a_30\", \"run_number\": 1670865804, \"metric\": null, \"status\": \"Completed\", \"run_type\": \"azureml.scriptrun\", \"training_percent\": \"100\", \"start_time\": \"2022-12-12T17:24:42.647641Z\", \"end_time\": \"2022-12-12T17:25:11.314843Z\", \"created_time\": \"2022-12-12T17:23:24.438067Z\", \"created_time_dt\": \"2022-12-12T17:23:24.438067Z\", \"duration\": \"0:01:46\", \"iteration\": \"30\", \"goal\": \"AUC_weighted_max\", \"run_name\": \"SparseNormalizer, ExtremeRandomTrees\", \"run_properties\": \"copy=True, norm='l1'\", \"primary_metric\": 0.56828721, \"best_metric\": 0.9130379}, {\"run_id\": \"AutoML_06728128-e3bd-435d-a1a7-73f0cda4096a_31\", \"run_number\": 1670865831, \"metric\": null, \"status\": \"Completed\", \"run_type\": \"azureml.scriptrun\", \"training_percent\": \"100\", \"start_time\": \"2022-12-12T17:25:06.729135Z\", \"end_time\": \"2022-12-12T17:25:37.461478Z\", \"created_time\": \"2022-12-12T17:23:51.652993Z\", \"created_time_dt\": \"2022-12-12T17:23:51.652993Z\", \"duration\": \"0:01:45\", \"iteration\": \"31\", \"goal\": \"AUC_weighted_max\", \"run_name\": \"StandardScalerWrapper, SVM\", \"run_properties\": \"copy=True, with_mean=False, with_std=True\", \"primary_metric\": 0.84644804, \"best_metric\": 0.9130379}, {\"run_id\": \"AutoML_06728128-e3bd-435d-a1a7-73f0cda4096a_32\", \"run_number\": 1670865851, \"metric\": null, \"status\": \"Completed\", \"run_type\": \"azureml.scriptrun\", \"training_percent\": \"100\", \"start_time\": \"2022-12-12T17:25:22.163649Z\", \"end_time\": \"2022-12-12T17:25:53.272672Z\", \"created_time\": \"2022-12-12T17:24:11.746828Z\", \"created_time_dt\": \"2022-12-12T17:24:11.746828Z\", \"duration\": \"0:01:41\", \"iteration\": \"32\", \"goal\": \"AUC_weighted_max\", \"run_name\": \"StandardScalerWrapper, XGBoostClassifier\", \"run_properties\": \"copy=True, with_mean=False, with_std=False\", \"primary_metric\": 0.89226356, \"best_metric\": 0.9130379}, {\"run_id\": \"AutoML_06728128-e3bd-435d-a1a7-73f0cda4096a_33\", \"run_number\": 1670865874, \"metric\": null, \"status\": \"Completed\", \"run_type\": \"azureml.scriptrun\", \"training_percent\": \"100\", \"start_time\": \"2022-12-12T17:25:49.184559Z\", \"end_time\": \"2022-12-12T17:26:27.110521Z\", \"created_time\": \"2022-12-12T17:24:34.757199Z\", \"created_time_dt\": \"2022-12-12T17:24:34.757199Z\", \"duration\": \"0:01:52\", \"iteration\": \"33\", \"goal\": \"AUC_weighted_max\", \"run_name\": \"MinMaxScaler, LightGBM\", \"run_properties\": \"copy=True, feature_range=(0, 1\", \"primary_metric\": 0.90385249, \"best_metric\": 0.9130379}, {\"run_id\": \"AutoML_06728128-e3bd-435d-a1a7-73f0cda4096a_34\", \"run_number\": 1670865898, \"metric\": null, \"status\": \"Completed\", \"run_type\": \"azureml.scriptrun\", \"training_percent\": \"100\", \"start_time\": \"2022-12-12T17:26:05.216069Z\", \"end_time\": \"2022-12-12T17:26:35.022708Z\", \"created_time\": \"2022-12-12T17:24:58.761611Z\", \"created_time_dt\": \"2022-12-12T17:24:58.761611Z\", \"duration\": \"0:01:36\", \"iteration\": \"34\", \"goal\": \"AUC_weighted_max\", \"run_name\": \"RobustScaler, SVM\", \"run_properties\": \"copy=True, quantile_range=[10, 90], with_centering=False,\\n             with_scaling=True\", \"primary_metric\": 0.81221618, \"best_metric\": 0.9130379}, {\"run_id\": \"AutoML_06728128-e3bd-435d-a1a7-73f0cda4096a_35\", \"run_number\": 1670865914, \"metric\": null, \"status\": \"Completed\", \"run_type\": \"azureml.scriptrun\", \"training_percent\": \"100\", \"start_time\": \"2022-12-12T17:26:38.926261Z\", \"end_time\": \"2022-12-12T17:27:19.631785Z\", \"created_time\": \"2022-12-12T17:25:14.142297Z\", \"created_time_dt\": \"2022-12-12T17:25:14.142297Z\", \"duration\": \"0:02:05\", \"iteration\": \"35\", \"goal\": \"AUC_weighted_max\", \"run_name\": \"RobustScaler, ExtremeRandomTrees\", \"run_properties\": \"copy=True, quantile_range=[25, 75], with_centering=True,\\n             with_scaling=True\", \"primary_metric\": 0.90603942, \"best_metric\": 0.9130379}, {\"run_id\": \"AutoML_06728128-e3bd-435d-a1a7-73f0cda4096a_36\", \"run_number\": 1670865939, \"metric\": null, \"status\": \"Completed\", \"run_type\": \"azureml.scriptrun\", \"training_percent\": \"100\", \"start_time\": \"2022-12-12T17:26:47.380977Z\", \"end_time\": \"2022-12-12T17:27:24.249347Z\", \"created_time\": \"2022-12-12T17:25:39.269671Z\", \"created_time_dt\": \"2022-12-12T17:25:39.269671Z\", \"duration\": \"0:01:44\", \"iteration\": \"36\", \"goal\": \"AUC_weighted_max\", \"run_name\": \"StandardScalerWrapper, SVM\", \"run_properties\": \"copy=True, with_mean=False, with_std=True\", \"primary_metric\": 0.86873031, \"best_metric\": 0.9130379}, {\"run_id\": \"AutoML_06728128-e3bd-435d-a1a7-73f0cda4096a_37\", \"run_number\": 1670865954, \"metric\": null, \"status\": \"Completed\", \"run_type\": \"azureml.scriptrun\", \"training_percent\": \"100\", \"start_time\": \"2022-12-12T17:27:28.182171Z\", \"end_time\": \"2022-12-12T17:28:02.733552Z\", \"created_time\": \"2022-12-12T17:25:54.921631Z\", \"created_time_dt\": \"2022-12-12T17:25:54.921631Z\", \"duration\": \"0:02:07\", \"iteration\": \"37\", \"goal\": \"AUC_weighted_max\", \"run_name\": \"StandardScalerWrapper, XGBoostClassifier\", \"run_properties\": \"copy=True, with_mean=False, with_std=False\", \"primary_metric\": 0.90830766, \"best_metric\": 0.9130379}, {\"run_id\": \"AutoML_06728128-e3bd-435d-a1a7-73f0cda4096a_38\", \"run_number\": 1670865988, \"metric\": null, \"status\": \"Canceled\", \"run_type\": \"azureml.scriptrun\", \"training_percent\": \"100\", \"start_time\": \"2022-12-12T17:27:36.226741Z\", \"end_time\": \"2022-12-12T17:28:03.58834Z\", \"created_time\": \"2022-12-12T17:26:28.906397Z\", \"created_time_dt\": \"2022-12-12T17:26:28.906397Z\", \"duration\": \"0:01:34\", \"iteration\": \"38\", \"goal\": \"AUC_weighted_max\", \"run_name\": \"StandardScalerWrapper, XGBoostClassifier\", \"run_properties\": \"copy=True, with_mean=False, with_std=False\", \"primary_metric\": 0.86652839, \"best_metric\": 0.9130379}, {\"run_id\": \"AutoML_06728128-e3bd-435d-a1a7-73f0cda4096a_39\", \"run_number\": 1670865996, \"metric\": null, \"status\": \"Canceled\", \"run_type\": \"azureml.scriptrun\", \"training_percent\": \"100\", \"start_time\": \"2022-12-12T17:28:03.373817Z\", \"end_time\": \"2022-12-12T17:28:04.072237Z\", \"created_time\": \"2022-12-12T17:26:36.777642Z\", \"created_time_dt\": \"2022-12-12T17:26:36.777642Z\", \"duration\": \"0:01:27\", \"iteration\": \"39\", \"goal\": null, \"run_name\": \"Canceled\", \"run_properties\": null}, {\"run_id\": \"AutoML_06728128-e3bd-435d-a1a7-73f0cda4096a_40\", \"run_number\": 1670866042, \"metric\": null, \"status\": \"Canceled\", \"run_type\": \"azureml.scriptrun\", \"training_percent\": \"100\", \"start_time\": \"2022-12-12T17:28:03.38781Z\", \"end_time\": \"2022-12-12T17:28:03.628338Z\", \"created_time\": \"2022-12-12T17:27:22.637661Z\", \"created_time_dt\": \"2022-12-12T17:27:22.637661Z\", \"duration\": \"0:00:40\", \"iteration\": \"40\", \"goal\": null, \"run_name\": \"Canceled\", \"run_properties\": null}, {\"run_id\": \"AutoML_06728128-e3bd-435d-a1a7-73f0cda4096a_41\", \"run_number\": 1670866046, \"metric\": null, \"status\": \"Canceled\", \"run_type\": \"azureml.scriptrun\", \"training_percent\": \"100\", \"start_time\": \"2022-12-12T17:28:03.363635Z\", \"end_time\": \"2022-12-12T17:28:03.602712Z\", \"created_time\": \"2022-12-12T17:27:26.095408Z\", \"created_time_dt\": \"2022-12-12T17:27:26.095408Z\", \"duration\": \"0:00:37\", \"iteration\": \"41\", \"goal\": null, \"run_name\": \"Canceled\", \"run_properties\": null}, {\"run_id\": \"AutoML_06728128-e3bd-435d-a1a7-73f0cda4096a_43\", \"run_number\": 1670866084, \"metric\": null, \"status\": \"Completed\", \"run_type\": \"azureml.scriptrun\", \"training_percent\": \"100\", \"start_time\": \"2022-12-12T17:29:14.733168Z\", \"end_time\": \"2022-12-12T17:30:19.243458Z\", \"created_time\": \"2022-12-12T17:28:04.951797Z\", \"created_time_dt\": \"2022-12-12T17:28:04.951797Z\", \"duration\": \"0:02:14\", \"iteration\": \"43\", \"goal\": \"AUC_weighted_max\", \"run_name\": \"StackEnsemble\", \"run_properties\": \"base_learners=[('24', Pipeline(memory=None, steps=[('standardscalerwrapper', StandardScalerWrapper(copy=True, with_mean=False, with_std=True\", \"primary_metric\": 0.91503213, \"best_metric\": 0.91503213}], \"children_metrics\": {\"categories\": [0], \"series\": {\"recall_score_weighted\": [{\"categories\": [\"0\", \"2\", \"6\", \"10\", \"13\", \"17\", \"20\", \"24\", \"25\", \"27\", \"28\", \"29\", \"30\", \"31\", \"32\", \"33\", \"34\", \"35\", \"36\", \"37\", \"38\", \"43\"], \"mode\": \"markers\", \"name\": \"recall_score_weighted\", \"stepped\": false, \"type\": \"scatter\", \"data\": [0.8526436781609196, 0.8493103448275864, 0.8394252873563218, 0.822528735632184, 0.7658620689655172, 0.8226436781609194, 0.8560919540229885, 0.8258620689655173, 0.6719540229885058, 0.822528735632184, 0.8628735632183909, 0.8257471264367815, 0.6791954022988507, 0.7993103448275862, 0.8291954022988506, 0.8591954022988506, 0.7959770114942529, 0.8629885057471265, 0.8325287356321839, 0.8460919540229886, 0.7957471264367817, 0.7695402298850575]}, {\"categories\": [\"0\", \"2\", \"6\", \"10\", \"13\", \"17\", \"20\", \"24\", \"25\", \"27\", \"28\", \"29\", \"30\", \"31\", \"32\", \"33\", \"34\", \"35\", \"36\", \"37\", \"38\", \"43\"], \"mode\": \"lines\", \"name\": \"recall_score_weighted_max\", \"stepped\": true, \"type\": \"scatter\", \"data\": [0.8526436781609196, 0.8526436781609196, 0.8526436781609196, 0.8526436781609196, 0.8526436781609196, 0.8526436781609196, 0.8560919540229885, 0.8560919540229885, 0.8560919540229885, 0.8560919540229885, 0.8628735632183909, 0.8628735632183909, 0.8628735632183909, 0.8628735632183909, 0.8628735632183909, 0.8628735632183909, 0.8628735632183909, 0.8629885057471265, 0.8629885057471265, 0.8629885057471265, 0.8629885057471265, 0.8629885057471265]}], \"norm_macro_recall\": [{\"categories\": [\"0\", \"2\", \"6\", \"10\", \"13\", \"17\", \"20\", \"24\", \"25\", \"27\", \"28\", \"29\", \"30\", \"31\", \"32\", \"33\", \"34\", \"35\", \"36\", \"37\", \"38\", \"43\"], \"mode\": \"markers\", \"name\": \"norm_macro_recall\", \"stepped\": false, \"type\": \"scatter\", \"data\": [0.6430960429730452, 0.6305465120310657, 0.6099378634332868, 0.5756400751549493, 0.34833368830508415, 0.5982775837815885, 0.6448131519510237, 0.616374543902576, 0.33765675304862947, 0.6393353038393084, 0.6688347969726689, 0.636975762859058, 0.0, 0.5086134423674469, 0.6157989118052047, 0.6650873222251941, 0.4922897411512972, 0.6373240372010394, 0.606533906406332, 0.6564873316360731, 0.5018486763681272, 0.38004589867290095]}, {\"categories\": [\"0\", \"2\", \"6\", \"10\", \"13\", \"17\", \"20\", \"24\", \"25\", \"27\", \"28\", \"29\", \"30\", \"31\", \"32\", \"33\", \"34\", \"35\", \"36\", \"37\", \"38\", \"43\"], \"mode\": \"lines\", \"name\": \"norm_macro_recall_max\", \"stepped\": true, \"type\": \"scatter\", \"data\": [0.6430960429730452, 0.6430960429730452, 0.6430960429730452, 0.6430960429730452, 0.6430960429730452, 0.6430960429730452, 0.6448131519510237, 0.6448131519510237, 0.6448131519510237, 0.6448131519510237, 0.6688347969726689, 0.6688347969726689, 0.6688347969726689, 0.6688347969726689, 0.6688347969726689, 0.6688347969726689, 0.6688347969726689, 0.6688347969726689, 0.6688347969726689, 0.6688347969726689, 0.6688347969726689, 0.6688347969726689]}], \"AUC_micro\": [{\"categories\": [\"0\", \"2\", \"6\", \"10\", \"13\", \"17\", \"20\", \"24\", \"25\", \"27\", \"28\", \"29\", \"30\", \"31\", \"32\", \"33\", \"34\", \"35\", \"36\", \"37\", \"38\", \"43\"], \"mode\": \"markers\", \"name\": \"AUC_micro\", \"stepped\": false, \"type\": \"scatter\", \"data\": [0.9107760602457391, 0.9017020742502313, 0.8938949663099486, 0.8820451843043996, 0.8058736953362399, 0.9073511692429646, 0.9128833399392258, 0.9144057339146519, 0.7392833927863655, 0.9080763641167922, 0.9202049147839872, 0.8828191306645528, 0.7043065134099618, 0.867973047958779, 0.9003960893116659, 0.9174680935394373, 0.8472372175980976, 0.9168793764037522, 0.8870919540229885, 0.9139924692826001, 0.8841504822301491, 0.8822049147839873]}, {\"categories\": [\"0\", \"2\", \"6\", \"10\", \"13\", \"17\", \"20\", \"24\", \"25\", \"27\", \"28\", \"29\", \"30\", \"31\", \"32\", \"33\", \"34\", \"35\", \"36\", \"37\", \"38\", \"43\"], \"mode\": \"lines\", \"name\": \"AUC_micro_max\", \"stepped\": true, \"type\": \"scatter\", \"data\": [0.9107760602457391, 0.9107760602457391, 0.9107760602457391, 0.9107760602457391, 0.9107760602457391, 0.9107760602457391, 0.9128833399392258, 0.9144057339146519, 0.9144057339146519, 0.9144057339146519, 0.9202049147839872, 0.9202049147839872, 0.9202049147839872, 0.9202049147839872, 0.9202049147839872, 0.9202049147839872, 0.9202049147839872, 0.9202049147839872, 0.9202049147839872, 0.9202049147839872, 0.9202049147839872, 0.9202049147839872]}], \"precision_score_micro\": [{\"categories\": [\"0\", \"2\", \"6\", \"10\", \"13\", \"17\", \"20\", \"24\", \"25\", \"27\", \"28\", \"29\", \"30\", \"31\", \"32\", \"33\", \"34\", \"35\", \"36\", \"37\", \"38\", \"43\"], \"mode\": \"markers\", \"name\": \"precision_score_micro\", \"stepped\": false, \"type\": \"scatter\", \"data\": [0.8526436781609196, 0.8493103448275864, 0.8394252873563218, 0.822528735632184, 0.7658620689655172, 0.8226436781609194, 0.8560919540229885, 0.8258620689655173, 0.6719540229885058, 0.822528735632184, 0.8628735632183909, 0.8257471264367815, 0.6791954022988507, 0.7993103448275862, 0.8291954022988506, 0.8591954022988506, 0.7959770114942529, 0.8629885057471265, 0.8325287356321839, 0.8460919540229886, 0.7957471264367817, 0.7695402298850575]}, {\"categories\": [\"0\", \"2\", \"6\", \"10\", \"13\", \"17\", \"20\", \"24\", \"25\", \"27\", \"28\", \"29\", \"30\", \"31\", \"32\", \"33\", \"34\", \"35\", \"36\", \"37\", \"38\", \"43\"], \"mode\": \"lines\", \"name\": \"precision_score_micro_max\", \"stepped\": true, \"type\": \"scatter\", \"data\": [0.8526436781609196, 0.8526436781609196, 0.8526436781609196, 0.8526436781609196, 0.8526436781609196, 0.8526436781609196, 0.8560919540229885, 0.8560919540229885, 0.8560919540229885, 0.8560919540229885, 0.8628735632183909, 0.8628735632183909, 0.8628735632183909, 0.8628735632183909, 0.8628735632183909, 0.8628735632183909, 0.8628735632183909, 0.8629885057471265, 0.8629885057471265, 0.8629885057471265, 0.8629885057471265, 0.8629885057471265]}], \"f1_score_macro\": [{\"categories\": [\"0\", \"2\", \"6\", \"10\", \"13\", \"17\", \"20\", \"24\", \"25\", \"27\", \"28\", \"29\", \"30\", \"31\", \"32\", \"33\", \"34\", \"35\", \"36\", \"37\", \"38\", \"43\"], \"mode\": \"markers\", \"name\": \"f1_score_macro\", \"stepped\": false, \"type\": \"scatter\", \"data\": [0.8229109664388268, 0.8208209352559649, 0.809208687932103, 0.7859665734784926, 0.6829016131755693, 0.7891373456026801, 0.822815722901729, 0.7961368324452291, 0.6365824576880258, 0.7964705029757662, 0.8358757031820465, 0.8002466704323261, 0.4024893878511494, 0.7547334646270902, 0.7975878484247216, 0.8306138845907775, 0.7513923665575896, 0.8322472865396191, 0.7994461944399345, 0.8214238985253329, 0.7519454436713404, 0.6484554159602585]}, {\"categories\": [\"0\", \"2\", \"6\", \"10\", \"13\", \"17\", \"20\", \"24\", \"25\", \"27\", \"28\", \"29\", \"30\", \"31\", \"32\", \"33\", \"34\", \"35\", \"36\", \"37\", \"38\", \"43\"], \"mode\": \"lines\", \"name\": \"f1_score_macro_max\", \"stepped\": true, \"type\": \"scatter\", \"data\": [0.8229109664388268, 0.8229109664388268, 0.8229109664388268, 0.8229109664388268, 0.8229109664388268, 0.8229109664388268, 0.8229109664388268, 0.8229109664388268, 0.8229109664388268, 0.8229109664388268, 0.8358757031820465, 0.8358757031820465, 0.8358757031820465, 0.8358757031820465, 0.8358757031820465, 0.8358757031820465, 0.8358757031820465, 0.8358757031820465, 0.8358757031820465, 0.8358757031820465, 0.8358757031820465, 0.8358757031820465]}], \"balanced_accuracy\": [{\"categories\": [\"0\", \"2\", \"6\", \"10\", \"13\", \"17\", \"20\", \"24\", \"25\", \"27\", \"28\", \"29\", \"30\", \"31\", \"32\", \"33\", \"34\", \"35\", \"36\", \"37\", \"38\", \"43\"], \"mode\": \"markers\", \"name\": \"balanced_accuracy\", \"stepped\": false, \"type\": \"scatter\", \"data\": [0.8215480214865225, 0.8152732560155329, 0.8049689317166434, 0.7878200375774747, 0.6741668441525421, 0.7991387918907942, 0.8224065759755119, 0.808187271951288, 0.6688283765243148, 0.8196676519196544, 0.8344173984863342, 0.818487881429529, 0.5, 0.7543067211837233, 0.8078994559026021, 0.8325436611125969, 0.7461448705756486, 0.8186620186005197, 0.8032669532031662, 0.8282436658180365, 0.7509243381840637, 0.6900229493364505]}, {\"categories\": [\"0\", \"2\", \"6\", \"10\", \"13\", \"17\", \"20\", \"24\", \"25\", \"27\", \"28\", \"29\", \"30\", \"31\", \"32\", \"33\", \"34\", \"35\", \"36\", \"37\", \"38\", \"43\"], \"mode\": \"lines\", \"name\": \"balanced_accuracy_max\", \"stepped\": true, \"type\": \"scatter\", \"data\": [0.8215480214865225, 0.8215480214865225, 0.8215480214865225, 0.8215480214865225, 0.8215480214865225, 0.8215480214865225, 0.8224065759755119, 0.8224065759755119, 0.8224065759755119, 0.8224065759755119, 0.8344173984863342, 0.8344173984863342, 0.8344173984863342, 0.8344173984863342, 0.8344173984863342, 0.8344173984863342, 0.8344173984863342, 0.8344173984863342, 0.8344173984863342, 0.8344173984863342, 0.8344173984863342, 0.8344173984863342]}], \"log_loss\": [{\"categories\": [\"0\", \"2\", \"6\", \"10\", \"13\", \"17\", \"20\", \"24\", \"25\", \"27\", \"28\", \"29\", \"30\", \"31\", \"32\", \"33\", \"34\", \"35\", \"36\", \"37\", \"38\", \"43\"], \"mode\": \"markers\", \"name\": \"log_loss\", \"stepped\": false, \"type\": \"scatter\", \"data\": [0.4598848075595511, 0.40117801271983156, 0.4031853975451883, 0.43200343255225954, 1.2827620632333787, 0.3826031250944235, 0.3720336640308625, 0.37571447184641343, 0.6600898559901284, 0.4813287549425086, 0.3549935418467757, 0.5781869190903841, 0.6303865758557838, 0.44637123453189964, 0.4472444993115964, 0.35871761494002335, 0.5209275768836019, 0.38064704782128034, 0.4197570489783372, 0.4074653999351966, 0.41476476758313885, 0.5036497725429481]}, {\"categories\": [\"0\", \"2\", \"6\", \"10\", \"13\", \"17\", \"20\", \"24\", \"25\", \"27\", \"28\", \"29\", \"30\", \"31\", \"32\", \"33\", \"34\", \"35\", \"36\", \"37\", \"38\", \"43\"], \"mode\": \"lines\", \"name\": \"log_loss_min\", \"stepped\": true, \"type\": \"scatter\", \"data\": [0.4598848075595511, 0.40117801271983156, 0.40117801271983156, 0.40117801271983156, 0.40117801271983156, 0.3826031250944235, 0.3720336640308625, 0.3720336640308625, 0.3720336640308625, 0.3720336640308625, 0.3549935418467757, 0.3549935418467757, 0.3549935418467757, 0.3549935418467757, 0.3549935418467757, 0.3549935418467757, 0.3549935418467757, 0.3549935418467757, 0.3549935418467757, 0.3549935418467757, 0.3549935418467757, 0.3549935418467757]}], \"recall_score_macro\": [{\"categories\": [\"0\", \"2\", \"6\", \"10\", \"13\", \"17\", \"20\", \"24\", \"25\", \"27\", \"28\", \"29\", \"30\", \"31\", \"32\", \"33\", \"34\", \"35\", \"36\", \"37\", \"38\", \"43\"], \"mode\": \"markers\", \"name\": \"recall_score_macro\", \"stepped\": false, \"type\": \"scatter\", \"data\": [0.8215480214865225, 0.8152732560155329, 0.8049689317166434, 0.7878200375774747, 0.6741668441525421, 0.7991387918907942, 0.8224065759755119, 0.808187271951288, 0.6688283765243148, 0.8196676519196544, 0.8344173984863342, 0.818487881429529, 0.5, 0.7543067211837233, 0.8078994559026021, 0.8325436611125969, 0.7461448705756486, 0.8186620186005197, 0.8032669532031662, 0.8282436658180365, 0.7509243381840637, 0.6900229493364505]}, {\"categories\": [\"0\", \"2\", \"6\", \"10\", \"13\", \"17\", \"20\", \"24\", \"25\", \"27\", \"28\", \"29\", \"30\", \"31\", \"32\", \"33\", \"34\", \"35\", \"36\", \"37\", \"38\", \"43\"], \"mode\": \"lines\", \"name\": \"recall_score_macro_max\", \"stepped\": true, \"type\": \"scatter\", \"data\": [0.8215480214865225, 0.8215480214865225, 0.8215480214865225, 0.8215480214865225, 0.8215480214865225, 0.8215480214865225, 0.8224065759755119, 0.8224065759755119, 0.8224065759755119, 0.8224065759755119, 0.8344173984863342, 0.8344173984863342, 0.8344173984863342, 0.8344173984863342, 0.8344173984863342, 0.8344173984863342, 0.8344173984863342, 0.8344173984863342, 0.8344173984863342, 0.8344173984863342, 0.8344173984863342, 0.8344173984863342]}], \"AUC_weighted\": [{\"categories\": [\"0\", \"2\", \"6\", \"10\", \"13\", \"17\", \"20\", \"24\", \"25\", \"27\", \"28\", \"29\", \"30\", \"31\", \"32\", \"33\", \"34\", \"35\", \"36\", \"37\", \"38\", \"43\"], \"mode\": \"markers\", \"name\": \"AUC_weighted\", \"stepped\": false, \"type\": \"scatter\", \"data\": [0.8952333600250076, 0.8792555040158587, 0.8745696242692811, 0.8638387105774978, 0.7464011599733854, 0.8925279287645992, 0.8960912485429647, 0.9130379049016921, 0.722330535124042, 0.9060327330733509, 0.9091284012897859, 0.8695020926272642, 0.568287207230857, 0.8464480421794495, 0.8922635554355806, 0.903852486123081, 0.8122161846755669, 0.9060394170813508, 0.8687303076807081, 0.9083076556124612, 0.8665283916587694, 0.9150321280253774]}, {\"categories\": [\"0\", \"2\", \"6\", \"10\", \"13\", \"17\", \"20\", \"24\", \"25\", \"27\", \"28\", \"29\", \"30\", \"31\", \"32\", \"33\", \"34\", \"35\", \"36\", \"37\", \"38\", \"43\"], \"mode\": \"lines\", \"name\": \"AUC_weighted_max\", \"stepped\": true, \"type\": \"scatter\", \"data\": [0.8952333600250076, 0.8952333600250076, 0.8952333600250076, 0.8952333600250076, 0.8952333600250076, 0.8952333600250076, 0.8960912485429647, 0.9130379049016921, 0.9130379049016921, 0.9130379049016921, 0.9130379049016921, 0.9130379049016921, 0.9130379049016921, 0.9130379049016921, 0.9130379049016921, 0.9130379049016921, 0.9130379049016921, 0.9130379049016921, 0.9130379049016921, 0.9130379049016921, 0.9130379049016921, 0.9150321280253774]}], \"recall_score_micro\": [{\"categories\": [\"0\", \"2\", \"6\", \"10\", \"13\", \"17\", \"20\", \"24\", \"25\", \"27\", \"28\", \"29\", \"30\", \"31\", \"32\", \"33\", \"34\", \"35\", \"36\", \"37\", \"38\", \"43\"], \"mode\": \"markers\", \"name\": \"recall_score_micro\", \"stepped\": false, \"type\": \"scatter\", \"data\": [0.8526436781609196, 0.8493103448275864, 0.8394252873563218, 0.822528735632184, 0.7658620689655172, 0.8226436781609194, 0.8560919540229885, 0.8258620689655173, 0.6719540229885058, 0.822528735632184, 0.8628735632183909, 0.8257471264367815, 0.6791954022988507, 0.7993103448275862, 0.8291954022988506, 0.8591954022988506, 0.7959770114942529, 0.8629885057471265, 0.8325287356321839, 0.8460919540229886, 0.7957471264367817, 0.7695402298850575]}, {\"categories\": [\"0\", \"2\", \"6\", \"10\", \"13\", \"17\", \"20\", \"24\", \"25\", \"27\", \"28\", \"29\", \"30\", \"31\", \"32\", \"33\", \"34\", \"35\", \"36\", \"37\", \"38\", \"43\"], \"mode\": \"lines\", \"name\": \"recall_score_micro_max\", \"stepped\": true, \"type\": \"scatter\", \"data\": [0.8526436781609196, 0.8526436781609196, 0.8526436781609196, 0.8526436781609196, 0.8526436781609196, 0.8526436781609196, 0.8560919540229885, 0.8560919540229885, 0.8560919540229885, 0.8560919540229885, 0.8628735632183909, 0.8628735632183909, 0.8628735632183909, 0.8628735632183909, 0.8628735632183909, 0.8628735632183909, 0.8628735632183909, 0.8629885057471265, 0.8629885057471265, 0.8629885057471265, 0.8629885057471265, 0.8629885057471265]}], \"matthews_correlation\": [{\"categories\": [\"0\", \"2\", \"6\", \"10\", \"13\", \"17\", \"20\", \"24\", \"25\", \"27\", \"28\", \"29\", \"30\", \"31\", \"32\", \"33\", \"34\", \"35\", \"36\", \"37\", \"38\", \"43\"], \"mode\": \"markers\", \"name\": \"matthews_correlation\", \"stepped\": false, \"type\": \"scatter\", \"data\": [0.6609732322714985, 0.6638015789030473, 0.6314366356398613, 0.5986771914346563, 0.4335563191961641, 0.5953212995437205, 0.6613844749265068, 0.6094402762244633, 0.31346109895014945, 0.6124699839522082, 0.6944507060726035, 0.6169838650218893, 0.0, 0.5405187135214669, 0.6120478763448074, 0.6790279157889179, 0.5333859434916698, 0.6948429336275689, 0.6168903883854313, 0.6657909877891734, 0.5340107028627571, 0.3985898351730037]}, {\"categories\": [\"0\", \"2\", \"6\", \"10\", \"13\", \"17\", \"20\", \"24\", \"25\", \"27\", \"28\", \"29\", \"30\", \"31\", \"32\", \"33\", \"34\", \"35\", \"36\", \"37\", \"38\", \"43\"], \"mode\": \"lines\", \"name\": \"matthews_correlation_max\", \"stepped\": true, \"type\": \"scatter\", \"data\": [0.6609732322714985, 0.6638015789030473, 0.6638015789030473, 0.6638015789030473, 0.6638015789030473, 0.6638015789030473, 0.6638015789030473, 0.6638015789030473, 0.6638015789030473, 0.6638015789030473, 0.6944507060726035, 0.6944507060726035, 0.6944507060726035, 0.6944507060726035, 0.6944507060726035, 0.6944507060726035, 0.6944507060726035, 0.6948429336275689, 0.6948429336275689, 0.6948429336275689, 0.6948429336275689, 0.6948429336275689]}], \"accuracy\": [{\"categories\": [\"0\", \"2\", \"6\", \"10\", \"13\", \"17\", \"20\", \"24\", \"25\", \"27\", \"28\", \"29\", \"30\", \"31\", \"32\", \"33\", \"34\", \"35\", \"36\", \"37\", \"38\", \"43\"], \"mode\": \"markers\", \"name\": \"accuracy\", \"stepped\": false, \"type\": \"scatter\", \"data\": [0.8526436781609196, 0.8493103448275864, 0.8394252873563218, 0.822528735632184, 0.7658620689655172, 0.8226436781609194, 0.8560919540229885, 0.8258620689655173, 0.6719540229885058, 0.822528735632184, 0.8628735632183909, 0.8257471264367815, 0.6791954022988507, 0.7993103448275862, 0.8291954022988506, 0.8591954022988506, 0.7959770114942529, 0.8629885057471265, 0.8325287356321839, 0.8460919540229886, 0.7957471264367817, 0.7695402298850575]}, {\"categories\": [\"0\", \"2\", \"6\", \"10\", \"13\", \"17\", \"20\", \"24\", \"25\", \"27\", \"28\", \"29\", \"30\", \"31\", \"32\", \"33\", \"34\", \"35\", \"36\", \"37\", \"38\", \"43\"], \"mode\": \"lines\", \"name\": \"accuracy_max\", \"stepped\": true, \"type\": \"scatter\", \"data\": [0.8526436781609196, 0.8526436781609196, 0.8526436781609196, 0.8526436781609196, 0.8526436781609196, 0.8526436781609196, 0.8560919540229885, 0.8560919540229885, 0.8560919540229885, 0.8560919540229885, 0.8628735632183909, 0.8628735632183909, 0.8628735632183909, 0.8628735632183909, 0.8628735632183909, 0.8628735632183909, 0.8628735632183909, 0.8629885057471265, 0.8629885057471265, 0.8629885057471265, 0.8629885057471265, 0.8629885057471265]}], \"weighted_accuracy\": [{\"categories\": [\"0\", \"2\", \"6\", \"10\", \"13\", \"17\", \"20\", \"24\", \"25\", \"27\", \"28\", \"29\", \"30\", \"31\", \"32\", \"33\", \"34\", \"35\", \"36\", \"37\", \"38\", \"43\"], \"mode\": \"markers\", \"name\": \"weighted_accuracy\", \"stepped\": false, \"type\": \"scatter\", \"data\": [0.8721435014988043, 0.8716812351909194, 0.8609664467668973, 0.8451681878460313, 0.8242342713380824, 0.8377337378877552, 0.8769593319167646, 0.8371386040890224, 0.6764631594150066, 0.8241597098967185, 0.8803854762478457, 0.8287280814014414, 0.7931711479234276, 0.8294320064265127, 0.8430388800316951, 0.8765819566159733, 0.8286902733973394, 0.8920107517375724, 0.8504077948090393, 0.8571747812297547, 0.8270458642981404, 0.8247946842415003]}, {\"categories\": [\"0\", \"2\", \"6\", \"10\", \"13\", \"17\", \"20\", \"24\", \"25\", \"27\", \"28\", \"29\", \"30\", \"31\", \"32\", \"33\", \"34\", \"35\", \"36\", \"37\", \"38\", \"43\"], \"mode\": \"lines\", \"name\": \"weighted_accuracy_max\", \"stepped\": true, \"type\": \"scatter\", \"data\": [0.8721435014988043, 0.8721435014988043, 0.8721435014988043, 0.8721435014988043, 0.8721435014988043, 0.8721435014988043, 0.8769593319167646, 0.8769593319167646, 0.8769593319167646, 0.8769593319167646, 0.8803854762478457, 0.8803854762478457, 0.8803854762478457, 0.8803854762478457, 0.8803854762478457, 0.8803854762478457, 0.8803854762478457, 0.8920107517375724, 0.8920107517375724, 0.8920107517375724, 0.8920107517375724, 0.8920107517375724]}], \"average_precision_score_weighted\": [{\"categories\": [\"0\", \"2\", \"6\", \"10\", \"13\", \"17\", \"20\", \"24\", \"25\", \"27\", \"28\", \"29\", \"30\", \"31\", \"32\", \"33\", \"34\", \"35\", \"36\", \"37\", \"38\", \"43\"], \"mode\": \"markers\", \"name\": \"average_precision_score_weighted\", \"stepped\": false, \"type\": \"scatter\", \"data\": [0.9151443911131578, 0.9004947704953983, 0.8942351986219921, 0.8879444208863108, 0.7942963774294312, 0.912694976646692, 0.9151320934713377, 0.9258642375417703, 0.7685101290521337, 0.9210254239607725, 0.9272505396074902, 0.8954864163364524, 0.6173106704486286, 0.873188266954204, 0.9092264135556898, 0.9184054661073466, 0.8462863719322218, 0.9218661031317984, 0.8922477060243329, 0.9250570934662943, 0.8841929341112369, 0.9317012013244824]}, {\"categories\": [\"0\", \"2\", \"6\", \"10\", \"13\", \"17\", \"20\", \"24\", \"25\", \"27\", \"28\", \"29\", \"30\", \"31\", \"32\", \"33\", \"34\", \"35\", \"36\", \"37\", \"38\", \"43\"], \"mode\": \"lines\", \"name\": \"average_precision_score_weighted_max\", \"stepped\": true, \"type\": \"scatter\", \"data\": [0.9151443911131578, 0.9151443911131578, 0.9151443911131578, 0.9151443911131578, 0.9151443911131578, 0.9151443911131578, 0.9151443911131578, 0.9258642375417703, 0.9258642375417703, 0.9258642375417703, 0.9272505396074902, 0.9272505396074902, 0.9272505396074902, 0.9272505396074902, 0.9272505396074902, 0.9272505396074902, 0.9272505396074902, 0.9272505396074902, 0.9272505396074902, 0.9272505396074902, 0.9272505396074902, 0.9317012013244824]}], \"average_precision_score_macro\": [{\"categories\": [\"0\", \"2\", \"6\", \"10\", \"13\", \"17\", \"20\", \"24\", \"25\", \"27\", \"28\", \"29\", \"30\", \"31\", \"32\", \"33\", \"34\", \"35\", \"36\", \"37\", \"38\", \"43\"], \"mode\": \"markers\", \"name\": \"average_precision_score_macro\", \"stepped\": false, \"type\": \"scatter\", \"data\": [0.8914391239798902, 0.8800912014421547, 0.872975650249141, 0.8531397251050148, 0.7597412180878824, 0.8890216009626529, 0.8874550291522019, 0.9016956162548148, 0.7116989239484988, 0.8979009084834984, 0.905857754911756, 0.8667677380248472, 0.539927474008896, 0.8364302656605391, 0.8789873174970984, 0.8947338813248452, 0.8139518511276659, 0.8991838560569378, 0.8570182851089229, 0.9036804308535846, 0.8541317636392082, 0.9112124358638278]}, {\"categories\": [\"0\", \"2\", \"6\", \"10\", \"13\", \"17\", \"20\", \"24\", \"25\", \"27\", \"28\", \"29\", \"30\", \"31\", \"32\", \"33\", \"34\", \"35\", \"36\", \"37\", \"38\", \"43\"], \"mode\": \"lines\", \"name\": \"average_precision_score_macro_max\", \"stepped\": true, \"type\": \"scatter\", \"data\": [0.8914391239798902, 0.8914391239798902, 0.8914391239798902, 0.8914391239798902, 0.8914391239798902, 0.8914391239798902, 0.8914391239798902, 0.9016956162548148, 0.9016956162548148, 0.9016956162548148, 0.905857754911756, 0.905857754911756, 0.905857754911756, 0.905857754911756, 0.905857754911756, 0.905857754911756, 0.905857754911756, 0.905857754911756, 0.905857754911756, 0.905857754911756, 0.905857754911756, 0.9112124358638278]}], \"average_precision_score_micro\": [{\"categories\": [\"0\", \"2\", \"6\", \"10\", \"13\", \"17\", \"20\", \"24\", \"25\", \"27\", \"28\", \"29\", \"30\", \"31\", \"32\", \"33\", \"34\", \"35\", \"36\", \"37\", \"38\", \"43\"], \"mode\": \"markers\", \"name\": \"average_precision_score_micro\", \"stepped\": false, \"type\": \"scatter\", \"data\": [0.9118998393040524, 0.9013820806478504, 0.8948392320710244, 0.8850299274029687, 0.792947413420068, 0.9068937168917195, 0.915055993167238, 0.9109803947421102, 0.7479932771644527, 0.9091106929728406, 0.9243152165433441, 0.8846254449864732, 0.6657040484565284, 0.8732349380347614, 0.9031610948612988, 0.9183347239199222, 0.8440619910521455, 0.9190804202001648, 0.8906229680138203, 0.9171572088488537, 0.8836212463440161, 0.8933453574763291]}, {\"categories\": [\"0\", \"2\", \"6\", \"10\", \"13\", \"17\", \"20\", \"24\", \"25\", \"27\", \"28\", \"29\", \"30\", \"31\", \"32\", \"33\", \"34\", \"35\", \"36\", \"37\", \"38\", \"43\"], \"mode\": \"lines\", \"name\": \"average_precision_score_micro_max\", \"stepped\": true, \"type\": \"scatter\", \"data\": [0.9118998393040524, 0.9118998393040524, 0.9118998393040524, 0.9118998393040524, 0.9118998393040524, 0.9118998393040524, 0.915055993167238, 0.915055993167238, 0.915055993167238, 0.915055993167238, 0.9243152165433441, 0.9243152165433441, 0.9243152165433441, 0.9243152165433441, 0.9243152165433441, 0.9243152165433441, 0.9243152165433441, 0.9243152165433441, 0.9243152165433441, 0.9243152165433441, 0.9243152165433441, 0.9243152165433441]}], \"precision_score_macro\": [{\"categories\": [\"0\", \"2\", \"6\", \"10\", \"13\", \"17\", \"20\", \"24\", \"25\", \"27\", \"28\", \"29\", \"30\", \"31\", \"32\", \"33\", \"34\", \"35\", \"36\", \"37\", \"38\", \"43\"], \"mode\": \"markers\", \"name\": \"precision_score_macro\", \"stepped\": false, \"type\": \"scatter\", \"data\": [0.8410434880400557, 0.8508641901576685, 0.8276908190559086, 0.8133497194072137, 0.773829678500159, 0.797827721477607, 0.8408582185788067, 0.8026382595732441, 0.6470305864156485, 0.7947260195944407, 0.8632650543900544, 0.7994853302012744, 0.33959770114942534, 0.789886645962733, 0.8054559819265702, 0.8487680375180375, 0.7913020313020314, 0.8812805918337954, 0.8147430124223602, 0.8397462561592995, 0.7863549674962719, 0.6386390373547124]}, {\"categories\": [\"0\", \"2\", \"6\", \"10\", \"13\", \"17\", \"20\", \"24\", \"25\", \"27\", \"28\", \"29\", \"30\", \"31\", \"32\", \"33\", \"34\", \"35\", \"36\", \"37\", \"38\", \"43\"], \"mode\": \"lines\", \"name\": \"precision_score_macro_max\", \"stepped\": true, \"type\": \"scatter\", \"data\": [0.8410434880400557, 0.8508641901576685, 0.8508641901576685, 0.8508641901576685, 0.8508641901576685, 0.8508641901576685, 0.8508641901576685, 0.8508641901576685, 0.8508641901576685, 0.8508641901576685, 0.8632650543900544, 0.8632650543900544, 0.8632650543900544, 0.8632650543900544, 0.8632650543900544, 0.8632650543900544, 0.8632650543900544, 0.8812805918337954, 0.8812805918337954, 0.8812805918337954, 0.8812805918337954, 0.8812805918337954]}], \"f1_score_micro\": [{\"categories\": [\"0\", \"2\", \"6\", \"10\", \"13\", \"17\", \"20\", \"24\", \"25\", \"27\", \"28\", \"29\", \"30\", \"31\", \"32\", \"33\", \"34\", \"35\", \"36\", \"37\", \"38\", \"43\"], \"mode\": \"markers\", \"name\": \"f1_score_micro\", \"stepped\": false, \"type\": \"scatter\", \"data\": [0.8526436781609196, 0.8493103448275864, 0.8394252873563219, 0.822528735632184, 0.7658620689655172, 0.8226436781609194, 0.8560919540229885, 0.8258620689655173, 0.6719540229885058, 0.822528735632184, 0.8628735632183909, 0.8257471264367817, 0.6791954022988507, 0.7993103448275862, 0.8291954022988506, 0.8591954022988506, 0.7959770114942529, 0.8629885057471265, 0.8325287356321839, 0.8460919540229886, 0.7957471264367817, 0.7695402298850575]}, {\"categories\": [\"0\", \"2\", \"6\", \"10\", \"13\", \"17\", \"20\", \"24\", \"25\", \"27\", \"28\", \"29\", \"30\", \"31\", \"32\", \"33\", \"34\", \"35\", \"36\", \"37\", \"38\", \"43\"], \"mode\": \"lines\", \"name\": \"f1_score_micro_max\", \"stepped\": true, \"type\": \"scatter\", \"data\": [0.8526436781609196, 0.8526436781609196, 0.8526436781609196, 0.8526436781609196, 0.8526436781609196, 0.8526436781609196, 0.8560919540229885, 0.8560919540229885, 0.8560919540229885, 0.8560919540229885, 0.8628735632183909, 0.8628735632183909, 0.8628735632183909, 0.8628735632183909, 0.8628735632183909, 0.8628735632183909, 0.8628735632183909, 0.8629885057471265, 0.8629885057471265, 0.8629885057471265, 0.8629885057471265, 0.8629885057471265]}], \"f1_score_weighted\": [{\"categories\": [\"0\", \"2\", \"6\", \"10\", \"13\", \"17\", \"20\", \"24\", \"25\", \"27\", \"28\", \"29\", \"30\", \"31\", \"32\", \"33\", \"34\", \"35\", \"36\", \"37\", \"38\", \"43\"], \"mode\": \"markers\", \"name\": \"f1_score_weighted\", \"stepped\": false, \"type\": \"scatter\", \"data\": [0.8495734967583646, 0.8447215533734319, 0.8362062813947053, 0.81906121720746, 0.7414592889700058, 0.8227847817915359, 0.8528962935432418, 0.8268810762878365, 0.6793793608513813, 0.8266771529088157, 0.8594125465245026, 0.8287935529834451, 0.5534120288954022, 0.7924765669136637, 0.8283496207104518, 0.8572979888333616, 0.7885568374337301, 0.8565006540912439, 0.8305999961426126, 0.8445759912441257, 0.7877511643649023, 0.7123339675956057]}, {\"categories\": [\"0\", \"2\", \"6\", \"10\", \"13\", \"17\", \"20\", \"24\", \"25\", \"27\", \"28\", \"29\", \"30\", \"31\", \"32\", \"33\", \"34\", \"35\", \"36\", \"37\", \"38\", \"43\"], \"mode\": \"lines\", \"name\": \"f1_score_weighted_max\", \"stepped\": true, \"type\": \"scatter\", \"data\": [0.8495734967583646, 0.8495734967583646, 0.8495734967583646, 0.8495734967583646, 0.8495734967583646, 0.8495734967583646, 0.8528962935432418, 0.8528962935432418, 0.8528962935432418, 0.8528962935432418, 0.8594125465245026, 0.8594125465245026, 0.8594125465245026, 0.8594125465245026, 0.8594125465245026, 0.8594125465245026, 0.8594125465245026, 0.8594125465245026, 0.8594125465245026, 0.8594125465245026, 0.8594125465245026, 0.8594125465245026]}], \"AUC_macro\": [{\"categories\": [\"0\", \"2\", \"6\", \"10\", \"13\", \"17\", \"20\", \"24\", \"25\", \"27\", \"28\", \"29\", \"30\", \"31\", \"32\", \"33\", \"34\", \"35\", \"36\", \"37\", \"38\", \"43\"], \"mode\": \"markers\", \"name\": \"AUC_macro\", \"stepped\": false, \"type\": \"scatter\", \"data\": [0.8952333600250076, 0.8792555040158587, 0.8745696242692811, 0.8638387105774978, 0.7464011599733854, 0.8925279287645992, 0.8960912485429647, 0.9130379049016921, 0.722330535124042, 0.9060327330733509, 0.9091284012897859, 0.8695020926272642, 0.5682872072308571, 0.8464480421794495, 0.8922635554355806, 0.903852486123081, 0.8122161846755669, 0.9060394170813508, 0.8687303076807081, 0.9083076556124612, 0.8665283916587694, 0.9150321280253774]}, {\"categories\": [\"0\", \"2\", \"6\", \"10\", \"13\", \"17\", \"20\", \"24\", \"25\", \"27\", \"28\", \"29\", \"30\", \"31\", \"32\", \"33\", \"34\", \"35\", \"36\", \"37\", \"38\", \"43\"], \"mode\": \"lines\", \"name\": \"AUC_macro_max\", \"stepped\": true, \"type\": \"scatter\", \"data\": [0.8952333600250076, 0.8952333600250076, 0.8952333600250076, 0.8952333600250076, 0.8952333600250076, 0.8952333600250076, 0.8960912485429647, 0.9130379049016921, 0.9130379049016921, 0.9130379049016921, 0.9130379049016921, 0.9130379049016921, 0.9130379049016921, 0.9130379049016921, 0.9130379049016921, 0.9130379049016921, 0.9130379049016921, 0.9130379049016921, 0.9130379049016921, 0.9130379049016921, 0.9130379049016921, 0.9150321280253774]}], \"precision_score_weighted\": [{\"categories\": [\"0\", \"2\", \"6\", \"10\", \"13\", \"17\", \"20\", \"24\", \"25\", \"27\", \"28\", \"29\", \"30\", \"31\", \"32\", \"33\", \"34\", \"35\", \"36\", \"37\", \"38\", \"43\"], \"mode\": \"markers\", \"name\": \"precision_score_weighted\", \"stepped\": false, \"type\": \"scatter\", \"data\": [0.8605602523953744, 0.8619869689281234, 0.8454002492984767, 0.8413501419573877, 0.7784834739122095, 0.8385192923446002, 0.8642312691252855, 0.8438669578022895, 0.7191770223797768, 0.8475703731638395, 0.8768664172991759, 0.8464972935136542, 0.47055053507728895, 0.8155336776056415, 0.8440764035566266, 0.8720630284785458, 0.8106558336299716, 0.878246215637646, 0.8457616419964621, 0.8654334907970591, 0.8089008200833538, 0.688156683313355]}, {\"categories\": [\"0\", \"2\", \"6\", \"10\", \"13\", \"17\", \"20\", \"24\", \"25\", \"27\", \"28\", \"29\", \"30\", \"31\", \"32\", \"33\", \"34\", \"35\", \"36\", \"37\", \"38\", \"43\"], \"mode\": \"lines\", \"name\": \"precision_score_weighted_max\", \"stepped\": true, \"type\": \"scatter\", \"data\": [0.8605602523953744, 0.8619869689281234, 0.8619869689281234, 0.8619869689281234, 0.8619869689281234, 0.8619869689281234, 0.8642312691252855, 0.8642312691252855, 0.8642312691252855, 0.8642312691252855, 0.8768664172991759, 0.8768664172991759, 0.8768664172991759, 0.8768664172991759, 0.8768664172991759, 0.8768664172991759, 0.8768664172991759, 0.878246215637646, 0.878246215637646, 0.878246215637646, 0.878246215637646, 0.878246215637646]}]}, \"metricName\": null, \"primaryMetricName\": \"AUC_weighted\", \"showLegend\": false}, \"run_metrics\": [{\"name\": \"experiment_status\", \"run_id\": \"AutoML_06728128-e3bd-435d-a1a7-73f0cda4096a\", \"categories\": [0, 1, 2, 3, 4, 5, 6, 7, 8, 9, 10, 11, 12, 13], \"series\": [{\"data\": [\"DatasetEvaluation\", \"FeaturesGeneration\", \"DatasetFeaturization\", \"DatasetFeaturizationCompleted\", \"DatasetCrossValidationSplit\", \"ModelSelection\", \"BestRunExplainModel\", \"ModelExplanationDataSetSetup\", \"PickSurrogateModel\", \"EngineeredFeatureExplanations\", \"EngineeredFeatureExplanations\", \"RawFeaturesExplanations\", \"RawFeaturesExplanations\", \"BestRunExplainModel\"]}]}, {\"name\": \"experiment_status_description\", \"run_id\": \"AutoML_06728128-e3bd-435d-a1a7-73f0cda4096a\", \"categories\": [0, 1, 2, 3, 4, 5, 6, 7, 8, 9, 10, 11, 12, 13], \"series\": [{\"data\": [\"Gathering dataset statistics.\", \"Generating features for the dataset.\", \"Beginning to fit featurizers and featurize the dataset.\", \"Completed fit featurizers and featurizing the dataset.\", \"Generating individually featurized CV splits.\", \"Beginning model selection.\", \"Best run model explanations started\", \"Model explanations data setup completed\", \"Choosing LightGBM as the surrogate model for explanations\", \"Computation of engineered features started\", \"Computation of engineered features completed\", \"Computation of raw features started\", \"Computation of raw features completed\", \"Best run model explanations completed\"]}]}, {\"name\": \"recall_score_macro\", \"run_id\": \"AutoML_06728128-e3bd-435d-a1a7-73f0cda4096a\", \"categories\": [0], \"series\": [{\"data\": [0.8228214388903747]}]}, {\"name\": \"recall_score_weighted\", \"run_id\": \"AutoML_06728128-e3bd-435d-a1a7-73f0cda4096a\", \"categories\": [0], \"series\": [{\"data\": [0.849425287356322]}]}, {\"name\": \"accuracy\", \"run_id\": \"AutoML_06728128-e3bd-435d-a1a7-73f0cda4096a\", \"categories\": [0], \"series\": [{\"data\": [0.849425287356322]}]}, {\"name\": \"recall_score_micro\", \"run_id\": \"AutoML_06728128-e3bd-435d-a1a7-73f0cda4096a\", \"categories\": [0], \"series\": [{\"data\": [0.849425287356322]}]}, {\"name\": \"precision_score_micro\", \"run_id\": \"AutoML_06728128-e3bd-435d-a1a7-73f0cda4096a\", \"categories\": [0], \"series\": [{\"data\": [0.849425287356322]}]}, {\"name\": \"average_precision_score_micro\", \"run_id\": \"AutoML_06728128-e3bd-435d-a1a7-73f0cda4096a\", \"categories\": [0], \"series\": [{\"data\": [0.9318730569139653]}]}, {\"name\": \"AUC_micro\", \"run_id\": \"AutoML_06728128-e3bd-435d-a1a7-73f0cda4096a\", \"categories\": [0], \"series\": [{\"data\": [0.9282127097370856]}]}, {\"name\": \"f1_score_micro\", \"run_id\": \"AutoML_06728128-e3bd-435d-a1a7-73f0cda4096a\", \"categories\": [0], \"series\": [{\"data\": [0.849425287356322]}]}, {\"name\": \"AUC_macro\", \"run_id\": \"AutoML_06728128-e3bd-435d-a1a7-73f0cda4096a\", \"categories\": [0], \"series\": [{\"data\": [0.9210603387035882]}]}, {\"name\": \"average_precision_score_macro\", \"run_id\": \"AutoML_06728128-e3bd-435d-a1a7-73f0cda4096a\", \"categories\": [0], \"series\": [{\"data\": [0.9155022540694944]}]}, {\"name\": \"f1_score_weighted\", \"run_id\": \"AutoML_06728128-e3bd-435d-a1a7-73f0cda4096a\", \"categories\": [0], \"series\": [{\"data\": [0.8465139730210305]}]}, {\"name\": \"norm_macro_recall\", \"run_id\": \"AutoML_06728128-e3bd-435d-a1a7-73f0cda4096a\", \"categories\": [0], \"series\": [{\"data\": [0.6456428777807497]}]}, {\"name\": \"precision_score_weighted\", \"run_id\": \"AutoML_06728128-e3bd-435d-a1a7-73f0cda4096a\", \"categories\": [0], \"series\": [{\"data\": [0.86416536782114]}]}, {\"name\": \"weighted_accuracy\", \"run_id\": \"AutoML_06728128-e3bd-435d-a1a7-73f0cda4096a\", \"categories\": [0], \"series\": [{\"data\": [0.8662834311418536]}]}, {\"name\": \"balanced_accuracy\", \"run_id\": \"AutoML_06728128-e3bd-435d-a1a7-73f0cda4096a\", \"categories\": [0], \"series\": [{\"data\": [0.8228214388903747]}]}, {\"name\": \"average_precision_score_weighted\", \"run_id\": \"AutoML_06728128-e3bd-435d-a1a7-73f0cda4096a\", \"categories\": [0], \"series\": [{\"data\": [0.9358031838616736]}]}, {\"name\": \"f1_score_macro\", \"run_id\": \"AutoML_06728128-e3bd-435d-a1a7-73f0cda4096a\", \"categories\": [0], \"series\": [{\"data\": [0.8196011888590735]}]}, {\"name\": \"log_loss\", \"run_id\": \"AutoML_06728128-e3bd-435d-a1a7-73f0cda4096a\", \"categories\": [0], \"series\": [{\"data\": [0.3582815445623221]}]}, {\"name\": \"precision_score_macro\", \"run_id\": \"AutoML_06728128-e3bd-435d-a1a7-73f0cda4096a\", \"categories\": [0], \"series\": [{\"data\": [0.8405330189769549]}]}, {\"name\": \"AUC_weighted\", \"run_id\": \"AutoML_06728128-e3bd-435d-a1a7-73f0cda4096a\", \"categories\": [0], \"series\": [{\"data\": [0.9210603387035879]}]}, {\"name\": \"matthews_correlation\", \"run_id\": \"AutoML_06728128-e3bd-435d-a1a7-73f0cda4096a\", \"categories\": [0], \"series\": [{\"data\": [0.6608310360732249]}]}], \"run_logs\": \"\\nRun is completed.\", \"graph\": {}, \"widget_settings\": {\"childWidgetDisplay\": \"popup\", \"send_telemetry\": false, \"log_level\": \"INFO\", \"sdk_version\": \"1.47.0\"}, \"loading\": false}"
     },
     "metadata": {},
     "output_type": "display_data"
    },
    {
     "data": {
      "text/html": [
       "<table style=\"width:100%\"><tr><th>Experiment</th><th>Id</th><th>Type</th><th>Status</th><th>Details Page</th><th>Docs Page</th></tr><tr><td>Capstone_Project_Exp</td><td>AutoML_06728128-e3bd-435d-a1a7-73f0cda4096a</td><td>automl</td><td>NotStarted</td><td><a href=\"https://ml.azure.com/runs/AutoML_06728128-e3bd-435d-a1a7-73f0cda4096a?wsid=/subscriptions/d7f39349-a66b-446e-aba6-0053c2cf1c11/resourcegroups/aml-quickstarts-218185/workspaces/quick-starts-ws-218185&amp;tid=660b3398-b80e-49d2-bc5b-ac1dc93b5254\" target=\"_blank\" rel=\"noopener\">Link to Azure Machine Learning studio</a></td><td><a href=\"https://docs.microsoft.com/en-us/python/api/overview/azure/ml/intro?view=azure-ml-py\" target=\"_blank\" rel=\"noopener\">Link to Documentation</a></td></tr></table>"
      ],
      "text/plain": [
       "<IPython.core.display.HTML object>"
      ]
     },
     "metadata": {},
     "output_type": "display_data"
    },
    {
     "name": "stdout",
     "output_type": "stream",
     "text": [
      "\n",
      "Current status: FeaturesGeneration. Generating features for the dataset.\n",
      "Current status: DatasetCrossValidationSplit. Generating individually featurized CV splits.\n",
      "Current status: ModelSelection. Beginning model selection.\n",
      "\n",
      "********************************************************************************************\n",
      "DATA GUARDRAILS: \n",
      "\n",
      "TYPE:         Cross validation\n",
      "STATUS:       DONE\n",
      "DESCRIPTION:  In order to accurately evaluate the model(s) trained by AutoML, we leverage a dataset that the model is not trained on. Hence, if the user doesn't provide an explicit validation dataset, a part of the training dataset is used to achieve this. For smaller datasets (fewer than 20,000 samples), cross-validation is leveraged, else a single hold-out set is split from the training data to serve as the validation dataset. Hence, for your input data we leverage cross-validation with 10 folds, if the number of training samples are fewer than 1000, and 3 folds in all other cases.\n",
      "              Learn more about cross validation: https://aka.ms/AutomatedMLCrossValidation\n",
      "DETAILS:      \n",
      "+------------------------------+\n",
      "|Number of folds               |\n",
      "+==============================+\n",
      "|10                            |\n",
      "+------------------------------+\n",
      "\n",
      "********************************************************************************************\n",
      "\n",
      "TYPE:         Class balancing detection\n",
      "STATUS:       PASSED\n",
      "DESCRIPTION:  Your inputs were analyzed, and all classes are balanced in your training data.\n",
      "              Learn more about imbalanced data: https://aka.ms/AutomatedMLImbalancedData\n",
      "\n",
      "********************************************************************************************\n",
      "\n",
      "TYPE:         Missing feature values imputation\n",
      "STATUS:       PASSED\n",
      "DESCRIPTION:  No feature missing values were detected in the training data.\n",
      "              Learn more about missing value imputation: https://aka.ms/AutomatedMLFeaturization\n",
      "\n",
      "********************************************************************************************\n",
      "\n",
      "TYPE:         High cardinality feature detection\n",
      "STATUS:       PASSED\n",
      "DESCRIPTION:  Your inputs were analyzed, and no high cardinality features were detected.\n",
      "              Learn more about high cardinality feature handling: https://aka.ms/AutomatedMLFeaturization\n",
      "\n",
      "********************************************************************************************\n",
      "\n",
      "********************************************************************************************\n",
      "ITER: The iteration being evaluated.\n",
      "PIPELINE: A summary description of the pipeline being evaluated.\n",
      "DURATION: Time taken for the current iteration.\n",
      "METRIC: The result of computing score on the fitted pipeline.\n",
      "BEST: The best observed score thus far.\n",
      "********************************************************************************************\n",
      "\n",
      " ITER   PIPELINE                                       DURATION            METRIC      BEST\n",
      "    4   StandardScalerWrapper LightGBM                 0:00:13             0.9028    0.9028\n",
      "    0   MaxAbsScaler LightGBM                          0:00:18             0.8952    0.9028\n",
      "    1   MaxAbsScaler XGBoostClassifier                 0:00:13             0.8992    0.9028\n",
      "    5   StandardScalerWrapper KNN                      0:00:18             0.5059    0.9028\n",
      "    2   MaxAbsScaler ExtremeRandomTrees                0:00:13             0.8793    0.9028\n",
      "    6   SparseNormalizer XGBoostClassifier             0:00:14             0.8746    0.9028\n",
      "    3   MaxAbsScaler RandomForest                      0:00:14             0.8737    0.9028\n",
      "    7   SparseNormalizer RandomForest                  0:00:15             0.9005    0.9028\n",
      "    8   RobustScaler KNN                               0:00:14             0.8333    0.9028\n",
      "   12   StandardScalerWrapper XGBoostClassifier        0:00:18             0.8960    0.9028\n",
      "    9   MinMaxScaler RandomForest                      0:00:13             0.9034    0.9034\n",
      "   10   StandardScalerWrapper LogisticRegression       0:00:13             0.8638    0.9034\n",
      "   13   SparseNormalizer KNN                           0:00:13             0.7464    0.9034\n",
      "   11   StandardScalerWrapper SVM                      0:00:18             0.7996    0.9034\n",
      "   14   RobustScaler ExtremeRandomTrees                0:00:18             0.8888    0.9034\n",
      "   15   SparseNormalizer XGBoostClassifier             0:00:17             0.8974    0.9034\n",
      "   16   MinMaxScaler ExtremeRandomTrees                0:00:14             0.9052    0.9052\n",
      "   17   MinMaxScaler ExtremeRandomTrees                0:00:14             0.8925    0.9052\n",
      "   20   StandardScalerWrapper XGBoostClassifier        0:00:37             0.8961    0.9052\n",
      "   18   SparseNormalizer LightGBM                      0:00:17             0.8808    0.9052\n",
      "   19   MaxAbsScaler ExtremeRandomTrees                0:00:21             0.8715    0.9052\n",
      "   22   MaxAbsScaler LightGBM                          0:00:31             0.9026    0.9052\n",
      "   21   StandardScalerWrapper RandomForest             0:00:34             0.9018    0.9052\n",
      "   24   StandardScalerWrapper ExtremeRandomTrees       0:00:38             0.9130    0.9130\n",
      "   23   MaxAbsScaler LogisticRegression                0:00:32             0.8674    0.9130\n",
      "   25   RobustScaler ExtremeRandomTrees                0:00:32             0.7223    0.9130\n",
      "   26   StandardScalerWrapper LogisticRegression       0:00:33             0.8714    0.9130\n",
      "   27   MinMaxScaler RandomForest                      0:00:36             0.9060    0.9130\n",
      "   28   MaxAbsScaler GradientBoosting                  0:00:33             0.9091    0.9130\n",
      "   29   StandardScalerWrapper ExtremeRandomTrees       0:00:35             0.8695    0.9130\n",
      "   30   SparseNormalizer ExtremeRandomTrees            0:00:29             0.5683    0.9130\n",
      "   31   StandardScalerWrapper SVM                      0:00:31             0.8464    0.9130\n",
      "   32   StandardScalerWrapper XGBoostClassifier        0:00:31             0.8923    0.9130\n",
      "   33   MinMaxScaler LightGBM                          0:00:38             0.9039    0.9130\n",
      "   34   RobustScaler SVM                               0:00:30             0.8122    0.9130\n",
      "   35   RobustScaler ExtremeRandomTrees                0:00:41             0.9060    0.9130\n",
      "   36   StandardScalerWrapper SVM                      0:00:37             0.8687    0.9130\n",
      "   37   StandardScalerWrapper XGBoostClassifier        0:00:35             0.9083    0.9130\n",
      "   38   StandardScalerWrapper XGBoostClassifier        0:00:27             0.8665    0.9130\n",
      "   39                                                  0:00:01                nan    0.9130\n",
      "   40                                                  0:00:00                nan    0.9130\n",
      "   41                                                  0:00:00                nan    0.9130\n",
      "   43    StackEnsemble                                 0:01:05             0.9150    0.9150\n",
      "   42    VotingEnsemble                                0:01:03             0.9211    0.9211\n"
     ]
    },
    {
     "data": {
      "text/plain": [
       "{'runId': 'AutoML_06728128-e3bd-435d-a1a7-73f0cda4096a',\n",
       " 'target': 'democomputeD2',\n",
       " 'status': 'Completed',\n",
       " 'startTimeUtc': '2022-12-12T17:13:04.61835Z',\n",
       " 'endTimeUtc': '2022-12-12T17:31:11.795665Z',\n",
       " 'services': {},\n",
       " 'warnings': [{'source': 'JasmineService',\n",
       "   'message': 'No scores improved over last 10 iterations, so experiment stopped early. This early stopping behavior can be disabled by setting enable_early_stopping = False in AutoMLConfig for notebook/python SDK runs.'}],\n",
       " 'properties': {'num_iterations': '1000',\n",
       "  'training_type': 'TrainFull',\n",
       "  'acquisition_function': 'EI',\n",
       "  'primary_metric': 'AUC_weighted',\n",
       "  'train_split': '0',\n",
       "  'acquisition_parameter': '0',\n",
       "  'num_cross_validation': None,\n",
       "  'target': 'democomputeD2',\n",
       "  'AMLSettingsJsonString': '{\"path\":null,\"name\":\"Capstone_Project_Exp\",\"subscription_id\":\"d7f39349-a66b-446e-aba6-0053c2cf1c11\",\"resource_group\":\"aml-quickstarts-218185\",\"workspace_name\":\"quick-starts-ws-218185\",\"region\":\"southcentralus\",\"compute_target\":\"democomputeD2\",\"spark_service\":null,\"azure_service\":\"remote\",\"many_models\":false,\"pipeline_fetch_max_batch_size\":1,\"enable_batch_run\":true,\"enable_parallel_run\":false,\"num_procs\":null,\"enable_run_restructure\":false,\"start_auxiliary_runs_before_parent_complete\":false,\"enable_code_generation\":true,\"iterations\":1000,\"primary_metric\":\"AUC_weighted\",\"task_type\":\"classification\",\"positive_label\":null,\"data_script\":null,\"test_size\":0.0,\"test_include_predictions_only\":false,\"validation_size\":0.0,\"n_cross_validations\":null,\"y_min\":null,\"y_max\":null,\"num_classes\":null,\"featurization\":\"auto\",\"_ignore_package_version_incompatibilities\":false,\"is_timeseries\":false,\"max_cores_per_iteration\":1,\"max_concurrent_iterations\":5,\"iteration_timeout_minutes\":null,\"mem_in_mb\":null,\"enforce_time_on_windows\":false,\"experiment_timeout_minutes\":20,\"experiment_exit_score\":null,\"partition_column_names\":null,\"whitelist_models\":null,\"blacklist_algos\":[\"TensorFlowLinearClassifier\",\"TensorFlowDNN\"],\"supported_models\":[\"SVM\",\"XGBoostClassifier\",\"LinearSVM\",\"MultinomialNaiveBayes\",\"KNN\",\"TensorFlowDNN\",\"RandomForest\",\"LogisticRegression\",\"GradientBoosting\",\"BernoulliNaiveBayes\",\"LightGBM\",\"DecisionTree\",\"TabnetClassifier\",\"TensorFlowLinearClassifier\",\"ExtremeRandomTrees\",\"AveragedPerceptronClassifier\",\"SGD\"],\"private_models\":[],\"auto_blacklist\":true,\"blacklist_samples_reached\":false,\"exclude_nan_labels\":true,\"verbosity\":20,\"_debug_log\":\"azureml_automl.log\",\"show_warnings\":false,\"model_explainability\":true,\"service_url\":null,\"sdk_url\":null,\"sdk_packages\":null,\"enable_onnx_compatible_models\":false,\"enable_split_onnx_featurizer_estimator_models\":false,\"vm_type\":\"STANDARD_D2_V2\",\"telemetry_verbosity\":20,\"send_telemetry\":true,\"enable_dnn\":false,\"scenario\":\"AutoML\",\"environment_label\":null,\"save_mlflow\":false,\"enable_categorical_indicators\":false,\"force_text_dnn\":false,\"enable_feature_sweeping\":true,\"enable_early_stopping\":true,\"early_stopping_n_iters\":10,\"arguments\":null,\"dataset_id\":\"78cfc434-de84-43ca-8f71-afad0f973400\",\"hyperdrive_config\":null,\"validation_dataset_id\":null,\"run_source\":null,\"metrics\":null,\"enable_metric_confidence\":false,\"enable_ensembling\":true,\"enable_stack_ensembling\":true,\"ensemble_iterations\":15,\"enable_tf\":false,\"enable_subsampling\":null,\"subsample_seed\":null,\"enable_nimbusml\":false,\"enable_streaming\":false,\"force_streaming\":false,\"track_child_runs\":true,\"n_best_runs\":1,\"allowed_private_models\":[],\"label_column_name\":\"DEATH_EVENT\",\"weight_column_name\":null,\"cv_split_column_names\":null,\"enable_local_managed\":false,\"_local_managed_run_id\":null,\"cost_mode\":1,\"lag_length\":0,\"metric_operation\":\"maximize\",\"preprocess\":true}',\n",
       "  'DataPrepJsonString': '{\\\\\"training_data\\\\\": {\\\\\"datasetId\\\\\": \\\\\"78cfc434-de84-43ca-8f71-afad0f973400\\\\\"}, \\\\\"datasets\\\\\": 0}',\n",
       "  'EnableSubsampling': None,\n",
       "  'runTemplate': 'AutoML',\n",
       "  'azureml.runsource': 'automl',\n",
       "  'display_task_type': 'classification',\n",
       "  'dependencies_versions': '{\"azureml-widgets\": \"1.47.0\", \"azureml-training-tabular\": \"1.47.0\", \"azureml-train\": \"1.47.0\", \"azureml-train-restclients-hyperdrive\": \"1.47.0\", \"azureml-train-core\": \"1.47.0\", \"azureml-train-automl\": \"1.47.0\", \"azureml-train-automl-runtime\": \"1.47.0\", \"azureml-train-automl-client\": \"1.47.0\", \"azureml-tensorboard\": \"1.47.0\", \"azureml-telemetry\": \"1.47.0\", \"azureml-sdk\": \"1.47.0\", \"azureml-samples\": \"0+unknown\", \"azureml-responsibleai\": \"1.47.0\", \"azureml-pipeline\": \"1.47.0\", \"azureml-pipeline-steps\": \"1.47.0\", \"azureml-pipeline-core\": \"1.47.0\", \"azureml-opendatasets\": \"1.47.0\", \"azureml-mlflow\": \"1.47.0\", \"azureml-interpret\": \"1.47.0\", \"azureml-inference-server-http\": \"0.7.6\", \"azureml-explain-model\": \"1.47.0\", \"azureml-defaults\": \"1.47.0\", \"azureml-dataset-runtime\": \"1.47.0\", \"azureml-dataprep\": \"4.5.7\", \"azureml-dataprep-rslex\": \"2.11.4\", \"azureml-dataprep-native\": \"38.0.0\", \"azureml-datadrift\": \"1.47.0\", \"azureml-core\": \"1.47.0\", \"azureml-contrib-services\": \"1.47.0\", \"azureml-contrib-server\": \"1.47.0\", \"azureml-contrib-reinforcementlearning\": \"1.47.0\", \"azureml-contrib-pipeline-steps\": \"1.47.0\", \"azureml-contrib-notebook\": \"1.47.0\", \"azureml-contrib-fairness\": \"1.47.0\", \"azureml-contrib-dataset\": \"1.47.0\", \"azureml-contrib-automl-pipeline-steps\": \"1.47.0\", \"azureml-cli-common\": \"1.47.0\", \"azureml-automl-runtime\": \"1.47.0\", \"azureml-automl-dnn-nlp\": \"1.47.0\", \"azureml-automl-core\": \"1.47.0\", \"azureml-accel-models\": \"1.47.0\"}',\n",
       "  '_aml_system_scenario_identification': 'Remote.Parent',\n",
       "  'ClientType': 'SDK',\n",
       "  'environment_cpu_name': 'AzureML-AutoML',\n",
       "  'environment_cpu_label': 'prod',\n",
       "  'environment_gpu_name': 'AzureML-AutoML-GPU',\n",
       "  'environment_gpu_label': 'prod',\n",
       "  'root_attribution': 'automl',\n",
       "  'attribution': 'AutoML',\n",
       "  'Orchestrator': 'AutoML',\n",
       "  'CancelUri': 'https://southcentralus.api.azureml.ms/jasmine/v1.0/subscriptions/d7f39349-a66b-446e-aba6-0053c2cf1c11/resourceGroups/aml-quickstarts-218185/providers/Microsoft.MachineLearningServices/workspaces/quick-starts-ws-218185/experimentids/c8a85c5e-82f6-4818-834c-122c1b370475/cancel/AutoML_06728128-e3bd-435d-a1a7-73f0cda4096a',\n",
       "  'ClientSdkVersion': '1.47.0',\n",
       "  'snapshotId': '00000000-0000-0000-0000-000000000000',\n",
       "  'SetupRunId': 'AutoML_06728128-e3bd-435d-a1a7-73f0cda4096a_setup',\n",
       "  'SetupRunContainerId': 'dcid.AutoML_06728128-e3bd-435d-a1a7-73f0cda4096a_setup',\n",
       "  'FeaturizationRunJsonPath': 'featurizer_container.json',\n",
       "  'FeaturizationRunId': 'AutoML_06728128-e3bd-435d-a1a7-73f0cda4096a_featurize',\n",
       "  'ProblemInfoJsonString': '{\"dataset_num_categorical\": 0, \"is_sparse\": false, \"subsampling\": false, \"has_extra_col\": true, \"dataset_classes\": 2, \"dataset_features\": 12, \"dataset_samples\": 299, \"single_frequency_class_detected\": false}',\n",
       "  'ModelExplainRunId': 'AutoML_06728128-e3bd-435d-a1a7-73f0cda4096a_ModelExplain'},\n",
       " 'inputDatasets': [{'dataset': {'id': '78cfc434-de84-43ca-8f71-afad0f973400'}, 'consumptionDetails': {'type': 'RunInput', 'inputName': 'training_data', 'mechanism': 'Direct'}}],\n",
       " 'outputDatasets': [{'identifier': {'savedId': 'd6a81d6b-0503-40a1-8e21-40087a531d1c'},\n",
       "   'outputType': 'RunOutput',\n",
       "   'outputDetails': {'outputName': 'full_training_dataset'},\n",
       "   'dataset': {\n",
       "     \"source\": [\n",
       "       \"('workspaceartifactstore', 'ExperimentRun/dcid.AutoML_06728128-e3bd-435d-a1a7-73f0cda4096a/outputs/featurization/data/full_training_dataset.df.parquet')\"\n",
       "     ],\n",
       "     \"definition\": [\n",
       "       \"GetDatastoreFiles\",\n",
       "       \"ReadParquetFile\",\n",
       "       \"DropColumns\"\n",
       "     ],\n",
       "     \"registration\": {\n",
       "       \"id\": \"d6a81d6b-0503-40a1-8e21-40087a531d1c\",\n",
       "       \"name\": null,\n",
       "       \"version\": null,\n",
       "       \"workspace\": \"Workspace.create(name='quick-starts-ws-218185', subscription_id='d7f39349-a66b-446e-aba6-0053c2cf1c11', resource_group='aml-quickstarts-218185')\"\n",
       "     }\n",
       "   }}],\n",
       " 'logFiles': {},\n",
       " 'submittedBy': 'ODL_User 218185'}"
      ]
     },
     "execution_count": 11,
     "metadata": {},
     "output_type": "execute_result"
    }
   ],
   "source": [
    "from azureml.widgets import RunDetails\n",
    "\n",
    "RunDetails(remote_run).show()\n",
    "remote_run.wait_for_completion(show_output=True)"
   ]
  },
  {
   "cell_type": "markdown",
   "metadata": {},
   "source": [
    "## Best Model\n",
    "\n",
    "TODO: In the cell below, get the best model from the automl experiments and display all the properties of the model.\n",
    "\n"
   ]
  },
  {
   "cell_type": "code",
   "execution_count": 12,
   "metadata": {
    "gather": {
     "logged": 1598431425670
    },
    "jupyter": {
     "outputs_hidden": false,
     "source_hidden": false
    },
    "nteract": {
     "transient": {
      "deleting": false
     }
    }
   },
   "outputs": [
    {
     "name": "stdout",
     "output_type": "stream",
     "text": [
      "AUC_macro : 0.9210603387035882\n",
      "matthews_correlation : 0.6608310360732249\n",
      "AUC_weighted : 0.9210603387035879\n",
      "balanced_accuracy : 0.8228214388903747\n",
      "norm_macro_recall : 0.6456428777807497\n",
      "AUC_micro : 0.9282127097370856\n",
      "precision_score_macro : 0.8405330189769549\n",
      "f1_score_micro : 0.849425287356322\n",
      "weighted_accuracy : 0.8662834311418536\n",
      "log_loss : 0.3582815445623221\n",
      "average_precision_score_macro : 0.9155022540694944\n",
      "f1_score_weighted : 0.8465139730210305\n",
      "recall_score_micro : 0.849425287356322\n",
      "precision_score_weighted : 0.86416536782114\n",
      "precision_score_micro : 0.849425287356322\n",
      "f1_score_macro : 0.8196011888590735\n",
      "accuracy : 0.849425287356322\n",
      "recall_score_weighted : 0.849425287356322\n",
      "average_precision_score_micro : 0.9318730569139653\n",
      "recall_score_macro : 0.8228214388903747\n",
      "average_precision_score_weighted : 0.9358031838616736\n",
      "accuracy_table : aml://artifactId/ExperimentRun/dcid.AutoML_06728128-e3bd-435d-a1a7-73f0cda4096a_42/accuracy_table\n",
      "confusion_matrix : aml://artifactId/ExperimentRun/dcid.AutoML_06728128-e3bd-435d-a1a7-73f0cda4096a_42/confusion_matrix\n"
     ]
    }
   ],
   "source": [
    "best_run, best_model = remote_run.get_output()\n",
    "\n",
    "best_run_metrics = best_run.get_metrics()\n",
    "\n",
    "for metric_name in best_run_metrics:\n",
    "    metric = best_run_metrics[metric_name]\n",
    "    print(metric_name,\":\" , metric)"
   ]
  },
  {
   "cell_type": "code",
   "execution_count": 13,
   "metadata": {
    "gather": {
     "logged": 1598431426111
    },
    "jupyter": {
     "outputs_hidden": false,
     "source_hidden": false
    },
    "nteract": {
     "transient": {
      "deleting": false
     }
    }
   },
   "outputs": [],
   "source": [
    "#TODO: Save the best model\n",
    "automodel = best_run.register_model(model_name='best_automl_model', \n",
    "                                    model_path='outputs/model.pkl',\n",
    "                                    tags={'Method':'AutoML'},\n",
    "                                    properties={'Accuracy': best_run_metrics['accuracy']})\n"
   ]
  },
  {
   "cell_type": "markdown",
   "metadata": {},
   "source": [
    "## Model Deployment\n",
    "\n",
    "Remember you have to deploy only one of the two models you trained but you still need to register both the models. Perform the steps in the rest of this notebook only if you wish to deploy this model.\n",
    "\n",
    "TODO: In the cell below, register the model, create an inference config and deploy the model as a web service."
   ]
  },
  {
   "cell_type": "code",
   "execution_count": 14,
   "metadata": {
    "gather": {
     "logged": 1598431435189
    },
    "jupyter": {
     "outputs_hidden": false,
     "source_hidden": false
    },
    "nteract": {
     "transient": {
      "deleting": false
     }
    }
   },
   "outputs": [],
   "source": [
    "# Download scoring file \n",
    "best_run.download_file('outputs/scoring_file_v_1_0_0.py', 'score.py')\n",
    "\n",
    "# Download environment file\n",
    "best_run.download_file('outputs/conda_env_v_1_0_0.yml', 'env.yml')"
   ]
  },
  {
   "cell_type": "markdown",
   "metadata": {
    "gather": {
     "logged": 1598431657736
    },
    "jupyter": {
     "outputs_hidden": false,
     "source_hidden": false
    },
    "nteract": {
     "transient": {
      "deleting": false
     }
    }
   },
   "source": [
    "TODO: In the cell below, send a request to the web service you deployed to test it."
   ]
  },
  {
   "cell_type": "code",
   "execution_count": 15,
   "metadata": {
    "gather": {
     "logged": 1598432707604
    },
    "jupyter": {
     "outputs_hidden": false,
     "source_hidden": false
    },
    "nteract": {
     "transient": {
      "deleting": false
     }
    }
   },
   "outputs": [
    {
     "name": "stdout",
     "output_type": "stream",
     "text": [
      "Tips: You can try get_logs(): https://aka.ms/debugimage#dockerlog or local deployment: https://aka.ms/debugimage#debug-locally to debug if deployment takes longer than 10 minutes.\n",
      "Running\n",
      "2022-12-12 17:34:56+00:00 Creating Container Registry if not exists..\n",
      "2022-12-12 17:44:56+00:00 Registering the environment.\n",
      "2022-12-12 17:44:57+00:00 Use the existing image.\n",
      "2022-12-12 17:44:58+00:00 Submitting deployment to compute..\n",
      "2022-12-12 17:45:02+00:00 Checking the status of deployment automl-webservice..\n",
      "2022-12-12 17:47:46+00:00 Checking the status of inference endpoint automl-webservice.\n",
      "Succeeded\n",
      "ACI service creation operation finished, operation \"Succeeded\"\n"
     ]
    }
   ],
   "source": [
    "from azureml.core.webservice import AciWebservice, Webservice\n",
    "aciconfig = AciWebservice.deploy_configuration(cpu_cores=1, \n",
    "                                               memory_gb=1, \n",
    "                                               description='Heart Disease Prediction with AutoML')\n",
    "\n",
    "from azureml.core.model import InferenceConfig, Model\n",
    "inference_config = InferenceConfig(entry_script=\"score.py\", environment=best_run.get_environment())\n",
    "\n",
    "service = Model.deploy(workspace=ws, \n",
    "                       name='automl-webservice', \n",
    "                       models=[automodel], \n",
    "                       inference_config=inference_config, \n",
    "                       deployment_config=aciconfig)\n",
    "\n",
    "service.wait_for_deployment(show_output=True)\n"
   ]
  },
  {
   "cell_type": "markdown",
   "metadata": {
    "gather": {
     "logged": 1598432765711
    },
    "jupyter": {
     "outputs_hidden": false,
     "source_hidden": false
    },
    "nteract": {
     "transient": {
      "deleting": false
     }
    }
   },
   "source": [
    "TODO: In the cell below, print the logs of the web service and delete the service"
   ]
  },
  {
   "cell_type": "code",
   "execution_count": 16,
   "metadata": {
    "jupyter": {
     "outputs_hidden": false,
     "source_hidden": false
    },
    "nteract": {
     "transient": {
      "deleting": false
     }
    }
   },
   "outputs": [],
   "source": [
    "service.get_logs()\n",
    "service.delete()"
   ]
  },
  {
   "cell_type": "markdown",
   "metadata": {},
   "source": [
    "**Submission Checklist**\n",
    "- I have registered the model.\n",
    "- I have deployed the model with the best accuracy as a webservice.\n",
    "- I have tested the webservice by sending a request to the model endpoint.\n",
    "- I have deleted the webservice and shutdown all the computes that I have used.\n",
    "- I have taken a screenshot showing the model endpoint as active.\n",
    "- The project includes a file containing the environment details.\n"
   ]
  },
  {
   "cell_type": "markdown",
   "metadata": {},
   "source": []
  }
 ],
 "metadata": {
  "kernel_info": {
   "name": "python3-azureml"
  },
  "kernelspec": {
   "display_name": "Python 3.8 - AzureML",
   "language": "python",
   "name": "python38-azureml"
  },
  "language_info": {
   "codemirror_mode": {
    "name": "ipython",
    "version": 3
   },
   "file_extension": ".py",
   "mimetype": "text/x-python",
   "name": "python",
   "nbconvert_exporter": "python",
   "pygments_lexer": "ipython3",
   "version": "3.8.5"
  },
  "nteract": {
   "version": "nteract-front-end@1.0.0"
  }
 },
 "nbformat": 4,
 "nbformat_minor": 4
}
